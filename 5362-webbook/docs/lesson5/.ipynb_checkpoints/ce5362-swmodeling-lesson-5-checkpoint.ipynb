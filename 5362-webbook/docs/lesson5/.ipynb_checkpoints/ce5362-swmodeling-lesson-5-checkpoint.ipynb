{
 "cells": [
  {
   "cell_type": "markdown",
   "metadata": {},
   "source": [
    "# CE 5362 Lesson 5 Computational Workshop\n",
    "\n",
    "This computational workshop is to examine computation related to:\n",
    "\n",
    "1. Uniform flow; algebraic equation.\n",
    "$$ S_f = S_0 $$\n",
    "\n",
    "2. Gradually varied; ordinary differential equation.\n",
    "$$ S_f = S_0 - \\frac{\\partial z}{\\partial x} - \\frac{V}{g}\\frac{\\partial V}{\\partial x} $$\n",
    "\n",
    "3. Dynamic flow (shallow wave) conditions; partial differential equation.\n",
    "\n",
    "$$ S_f = S_0 - \\frac{1}{g} \\frac{\\partial V}{\\partial t} - \\frac{\\partial z}{\\partial x} - \\frac{V}{g}\\frac{\\partial V}{\\partial x} $$\n",
    "\n",
    "The objectives are to explore the JupyterLab environment to make relevant computations, then compare results to the professional tools (SWMM)\n",
    "\n",
    "\n"
   ]
  },
  {
   "cell_type": "markdown",
   "metadata": {},
   "source": [
    "## Steady Uniform (Normal) Flow\n",
    "Uniform flow is defined as the situation where friction slope and channel slope are the same. In this kind of \n",
    "flow the profile grade line (channel bottom), the hydraulic grade line (water surface), and the energy grade line are all\n",
    "parallel:\n",
    "\n",
    "$$ S_f = \\frac{\\Delta h}{\\Delta x} = S_0 $$\n",
    "\n",
    "One can apply the Darcy-Weisbach head loss model (adapted for non-circular conduits, using correlations for the friction factor):\n",
    "\n",
    "$$h_L = f\\frac{L}{4R_h}\\frac{V^2}{2g}$$\n",
    "\n",
    "or more commonly the Chezy-Manning head loss model:\n",
    "\n",
    "$$h_L = L (\\frac{n V}{1.0 \\times R_h^{2/3}})^2$$\n",
    "\n",
    "### Typical Calculations\n",
    "\n",
    "Uniform flow type computations will usually deal with flow depth in a given geometry for a given discharge, possibly from a hydrologic response model integrated into the process.\n",
    "\n",
    "Using that as the structure, lets build a simple, extensible model tool that predicts flow depth in a rectangular channel, and then computes node depths at the channel ends - we will then connect two channels in series (as we might in SWMM) and compute the predicted water surface elevation.\n",
    "\n",
    "First lets define some useful functions "
   ]
  },
  {
   "cell_type": "code",
   "execution_count": 26,
   "metadata": {},
   "outputs": [],
   "source": [
    "# Hydraulic Functions\n",
    "# Depth-Area function for rectangular channel\n",
    "def area(depth,width):\n",
    "    area=depth*width;\n",
    "    return(area)"
   ]
  },
  {
   "cell_type": "code",
   "execution_count": 2,
   "metadata": {},
   "outputs": [],
   "source": [
    "# Depth-Wetted perimeter function for rectangular channel\n",
    "def perimeter(depth,width):\n",
    "    perimeter=2*depth+width;\n",
    "    return(perimeter)"
   ]
  },
  {
   "cell_type": "code",
   "execution_count": 3,
   "metadata": {},
   "outputs": [],
   "source": [
    "# Hydraulic radius function\n",
    "def radius(area,perimeter):\n",
    "    radius=area/perimeter;\n",
    "    return(radius)"
   ]
  },
  {
   "cell_type": "code",
   "execution_count": 4,
   "metadata": {},
   "outputs": [],
   "source": [
    "# Topographic slope function\n",
    "def slope0(xup,zup,xdown,zdown):\n",
    "    slope0=-1.0*(zdown-zup)/(xdown-xup)\n",
    "    return(slope0)"
   ]
  },
  {
   "cell_type": "code",
   "execution_count": 5,
   "metadata": {},
   "outputs": [],
   "source": [
    "# Manning's equation SI units\n",
    "def qnorm(mannings_n,area,radius,slope):\n",
    "    qnorm=(1.0/mannings_n)*area*(radius**(2./3.))*(slope**(1./2.))\n",
    "    return(qnorm)"
   ]
  },
  {
   "cell_type": "markdown",
   "metadata": {},
   "source": [
    "Here is how we might proceede, lets make up a function and check it"
   ]
  },
  {
   "cell_type": "code",
   "execution_count": 8,
   "metadata": {},
   "outputs": [
    {
     "name": "stdout",
     "output_type": "stream",
     "text": [
      "qdesign =  10.0 qguess =  10.0\n"
     ]
    }
   ],
   "source": [
    "width = 5.0\n",
    "qdesign = 10.0\n",
    "mannn = 0.02\n",
    "z1 = 100.0\n",
    "z2 =  99.0\n",
    "x1 = 0.0\n",
    "x2 = 100.0\n",
    "\n",
    "toposlope = slope0(x1,z1,x2,z2)\n",
    "dguess = 0.63148039217297\n",
    "qguess = qnorm(mannn,area(dguess,width),radius(area(dguess,width),perimeter(dguess,width)),toposlope)\n",
    "print('qdesign = ',qdesign,'qguess = ',qguess)"
   ]
  },
  {
   "cell_type": "markdown",
   "metadata": {},
   "source": [
    "Now we will want to automate the process somewhat, here we use a quasi-Newton method as described at (http://54.243.252.9/engr-1330-psuedo-course/MyJupyterNotebooks/10-NewtonsMethod/NewtonsMethod.html)"
   ]
  },
  {
   "cell_type": "code",
   "execution_count": 7,
   "metadata": {},
   "outputs": [
    {
     "name": "stdout",
     "output_type": "stream",
     "text": [
      "Update not changing \n",
      "\n",
      "Function value = 0.0\n",
      " Root value    = 0.63148039217297\n",
      "End of NewtonMethod.py \n"
     ]
    }
   ],
   "source": [
    "# Define the function\n",
    "def func(dguess):\n",
    "    global x1,x2,z1,z2,mann,qdesign\n",
    "    qguess = qnorm(mannn,area(dguess,width),radius(area(dguess,width),perimeter(dguess,width)),slope0(x1,z1,x2,z2))\n",
    "    func = qdesign - qguess\n",
    "    return func\n",
    "def dfdx(x):\n",
    "    dfdx = (func(x + 1e-06) - func(x) )/ (1e-06)\n",
    "    return (dfdx)\n",
    "\n",
    "HowMany = 9\n",
    "HowSmall = 1e-06\n",
    "xnow = 0.5\n",
    "# now we begin the process\n",
    "count = 0\n",
    "for i in range(0,HowMany,1):\n",
    "    xnew = xnow - func(xnow)/dfdx(xnow)\n",
    "# stopping criteria -- update not changing\n",
    "    if abs(xnew - xnow) < HowSmall:\n",
    "        print (\"Update not changing \\n\")\n",
    "        print(\"Function value =\",func(xnew))\n",
    "        print(\" Root value    =\",xnew)\n",
    "        break\n",
    "    else:\n",
    "        xnow = xnew\n",
    "        count = count +1\n",
    "        continue\n",
    "# stopping criteria -- function close to zero\n",
    "    if abs( func(xnew) ) < HowSmall:\n",
    "        print (\"Function value close to zero \\n\")\n",
    "        print(\"Function value =\",func(xnew))\n",
    "        print(\" Root value    =\",xnew)\n",
    "        break\n",
    "    else:\n",
    "        xnow = xnew\n",
    "        count = count +1\n",
    "        continue\n",
    "# next step, then have either broken from the loop or iteration counted out\n",
    "if count == HowMany:\n",
    "    print(\" Iteration Limit Reached \")\n",
    "    print(\"Function value =\",func(xnew))\n",
    "    print(\" Root value    =\",xnew)\n",
    "print(\"End of NewtonMethod.py \")"
   ]
  },
  {
   "cell_type": "markdown",
   "metadata": {},
   "source": [
    "Now we can tidy up the code a bit to handle an example case of 3 nodes, connected by two links.\n",
    "\n",
    "First lets convert the script to report specific output\n"
   ]
  },
  {
   "cell_type": "code",
   "execution_count": 10,
   "metadata": {},
   "outputs": [],
   "source": [
    "# Define the function\n",
    "def func(dguess):\n",
    "    global x1,x2,z1,z2,mann,qdesign\n",
    "    qguess = qnorm(mannn,area(dguess,width),radius(area(dguess,width),perimeter(dguess,width)),slope0(x1,z1,x2,z2))\n",
    "    func = qdesign - qguess\n",
    "    return func\n",
    "def dfdx(x):\n",
    "    dfdx = (func(x + 1e-06) - func(x) )/ (1e-06)\n",
    "    return (dfdx)\n",
    "\n",
    "def GetDepth(xnow):\n",
    "    HowMany = 9\n",
    "    HowSmall = 1e-06\n",
    "    #xnow = 0.5 #pass as argument\n",
    "    # now we begin the process\n",
    "    count = 0\n",
    "    for i in range(0,HowMany,1):\n",
    "        xnew = xnow - func(xnow)/dfdx(xnow)\n",
    "    # stopping criteria -- update not changing\n",
    "        if abs(xnew - xnow) < HowSmall:\n",
    "            print (\"Update not changing \\n\")\n",
    "            print(\"Function value =\",func(xnew))\n",
    "            print(\" Root value    =\",xnew)\n",
    "            break\n",
    "        else:\n",
    "            xnow = xnew\n",
    "            count = count +1\n",
    "            continue\n",
    "    # stopping criteria -- function close to zero\n",
    "        if abs( func(xnew) ) < HowSmall:\n",
    "            print (\"Function value close to zero \\n\")\n",
    "            print(\"Function value =\",func(xnew))\n",
    "            print(\" Root value    =\",xnew)\n",
    "            break\n",
    "        else:\n",
    "            xnow = xnew\n",
    "            count = count +1\n",
    "            continue\n",
    "# next step, then have either broken from the loop or iteration counted out\n",
    "    if count == HowMany:\n",
    "        print(\" Iteration Limit Reached \")\n",
    "        print(\"Function value =\",func(xnew))\n",
    "        print(\" Root value    =\",xnew)\n",
    "    print(\"End of NewtonMethod.py \")\n",
    "    return(xnew)"
   ]
  },
  {
   "cell_type": "code",
   "execution_count": 11,
   "metadata": {},
   "outputs": [
    {
     "name": "stdout",
     "output_type": "stream",
     "text": [
      "Update not changing \n",
      "\n",
      "Function value = 0.0\n",
      " Root value    = 0.63148039217297\n",
      "End of NewtonMethod.py \n"
     ]
    },
    {
     "data": {
      "text/plain": [
       "0.63148039217297"
      ]
     },
     "execution_count": 11,
     "metadata": {},
     "output_type": "execute_result"
    }
   ],
   "source": [
    "GetDepth(0.5)"
   ]
  },
  {
   "cell_type": "code",
   "execution_count": 27,
   "metadata": {},
   "outputs": [
    {
     "name": "stdout",
     "output_type": "stream",
     "text": [
      "Update not changing \n",
      "\n",
      "Function value = 0.0\n",
      " Root value    = 0.63148039217297\n",
      "End of NewtonMethod.py \n",
      "Update not changing \n",
      "\n",
      "Function value = -1.7763568394002505e-15\n",
      " Root value    = 0.44303906911056373\n",
      "End of NewtonMethod.py \n",
      "\n",
      "Node  0  Elevation  100  Water Surface Elevation  100.63148039217297\n",
      "Node  1  Elevation  99  Water Surface Elevation  99.53725973064176\n",
      "Node  2  Elevation  96  Water Surface Elevation  96.44303906911057\n"
     ]
    }
   ],
   "source": [
    "# Our world\n",
    "location = [0,100,200]\n",
    "elevation = [100,99,96] # bottom elevation nodes 0,1,2 - notice intended change in slope\n",
    "depth = []\n",
    "head = []\n",
    "mannn = 0.02 # mannings N all sections\n",
    "qdesign = 10.0 # upstream input flow \n",
    "\n",
    "# solve the first reach\n",
    "z1 = elevation[0]\n",
    "z2 =  elevation[1]\n",
    "x1 = location[0]\n",
    "x2 = location[1]\n",
    "depth.append(GetDepth(0.5))\n",
    "\n",
    "# solve the second reach\n",
    "z1 = elevation[1]\n",
    "z2 =  elevation[2]\n",
    "x1 = location[1]\n",
    "x2 = location[2]\n",
    "depth.append(GetDepth(0.5))\n",
    "\n",
    "# compute head in nodes (this is tricky at the slope change, probably use average head)\n",
    "head.append(elevation[0]+0.5*(depth[0]+depth[0]))\n",
    "head.append(elevation[1]+0.5*(depth[0]+depth[1]))\n",
    "head.append(elevation[2]+0.5*(depth[1]+depth[1]))\n",
    "\n",
    "print('')\n",
    "\n",
    "for irow in range(0,3):\n",
    "    print('Node ',irow,' Elevation ',elevation[irow],' Water Surface Elevation ',head[irow])\n",
    "    \n"
   ]
  },
  {
   "cell_type": "markdown",
   "metadata": {},
   "source": [
    "Now lets plot the situation"
   ]
  },
  {
   "cell_type": "code",
   "execution_count": 25,
   "metadata": {},
   "outputs": [
    {
     "data": {
      "image/png": "[encoded data removed]",
      "text/plain": [
       "<Figure size 432x288 with 1 Axes>"
      ]
     },
     "metadata": {
      "needs_background": "light"
     },
     "output_type": "display_data"
    }
   ],
   "source": [
    "# Now plotting\n",
    "def plotAline(list1,list2,list3,list4,strx,stry,strtitle): # plot list1 on x, list2 on y, xlabel, ylabel, title\n",
    "    from matplotlib import pyplot as plt # import the plotting library from matplotlibplt.show()\n",
    "    plt.plot( list1, list2, color ='brown', marker ='', linestyle ='solid') # create a line chart, years on x-axis, gdp on y-axis\n",
    "    plt.plot( list3, list4, color ='blue', marker ='', linestyle ='solid') # create a line chart, years on x-axis, gdp on y-axis\n",
    "    plt.title(strtitle)# add a title\n",
    "    plt.ylabel(stry)# add a label to the x and y-axes\n",
    "    plt.xlabel(strx)\n",
    "    plt.show() # display the plot\n",
    "    return #null return\n",
    "\n",
    "plotAline(location,elevation,location,head,'Distance','Elevation','Water Surface Profile - Normal Depth in Each Channel')"
   ]
  },
  {
   "cell_type": "markdown",
   "metadata": {},
   "source": [
    "## SWMM\n",
    "\n",
    "Now we will do the same simulation in SWMM - we will find it is a lot easier to set-up and run.\n",
    "\n",
    "---"
   ]
  },
  {
   "cell_type": "markdown",
   "metadata": {},
   "source": [
    "## Gradually Varied Steady Flow"
   ]
  },
  {
   "cell_type": "markdown",
   "metadata": {},
   "source": [
    "### Fixed Depth Change, Variable Spatial Step\n",
    "The fixed-step refers to specified changes in depth for which we solve to find the variable spatial steps. The method is a very simple method for computing water surface profiles in prismatic channels. A prismatic channel is a channel of uniform cross sectional geometry with constant bed (topographic) slope.\n",
    "\n",
    "In such channels with smooth (non-jump) steady flow the continunity and momentum equations are: \n",
    "\n",
    "$$Q = AV $$\n",
    "\n",
    "where where $Q$ is volumetric discharge, $A$ is cross sectional flow area, and $V$ is the mean section velocity; and: \n",
    "\n",
    "$$\\frac{V}{g} \\frac{dV}{dx}+\\frac{dh}{dx} = S_o - S_f$$ \n",
    "\n",
    "where $h$ is the flow depth (above the bottom), and $x$ is horizontal the distance along the channel.\n",
    "\n",
    "For the variable step method, the momentum equation is rewritten as a difference equation (after application of calculus to gather terms) then rearranged to solve for the spatial step dimension .\n",
    "\n",
    "$$ \\frac{\\frac{V^2_{i+1}}{2g}-\\frac{V^2_{i}}{2g}}{\\Delta x} + \\frac{h_{i+1}-h_{i}}{\\Delta x} = S_o - \\bar{S_f} $$\n",
    "\n",
    "where $S_f$ is the average slope of the energy grade line between two sections (along a\n",
    "reach of length $\\Delta x$, the unknown value). Rearrangement to isolate $\\Delta x$ produces an explicit update equation that can be evaluated to find the different values of $\\Delta x$ associated with different flow depths. The\n",
    "plot of the accumulated spatial changes versus the sum of the flow depth and bottom elevation is the water surface profile.\n",
    "\n",
    "$$\\frac{(h_{i+1} + \\frac{V^2_{i+1}}{2g})  -  (h_{i} +\\frac{V^2_{i}}{2g}) }{S_o - \\bar{S_f} } = \\Delta x $$\n",
    "\n",
    "The distance between two sections with known discharges is computed using the\n",
    "equation, all the terms on the left hand side are known values. The mean energy\n",
    "gradient ($\\bar{S_f}$ ) is computed from the mean of the velocity, depth, area, and hydraulic\n",
    "radius for the two sections.\n",
    "\n",
    "The friction slope can be computed using Manning's, Chezy, or the Darcy-Weisbach friction equations adapted for non-circular, free-surface conduits.\n",
    "\n",
    "The equation here is written moving upstream, direction matters for indexing. Thus position $i+1$\n",
    "is assumed upstream of position $i$ in this notebook. Such directional convention is unusual in\n",
    "numerical methods and analysts need to use care when developing their own tools or using other\n",
    "tools. A clever analyst need not rewrite code, but simple interchange of upstream and downstream\n",
    "depths can handle both backwater and front-water curves."
   ]
  },
  {
   "cell_type": "markdown",
   "metadata": {},
   "source": [
    "## Scripting an Algorithm\n",
    "\n",
    "Here the method is illustrated in  to illustrate the tool as a programming environment.\n",
    "First we build a set of utility functions, these will be used later in the `backwater`\n",
    "function\n",
    "\n",
    "The listings below are utility functions for rectangular channels for flow area given channel\n",
    "depth and width and wetted perimeter given depth and width. Different geometries will need different functions (probably by numerical methods rather than actual functional relationships).\n",
    "\n",
    "\n",
    "The first listing is a depth-area function for rectangular geometry."
   ]
  },
  {
   "cell_type": "code",
   "execution_count": 177,
   "metadata": {},
   "outputs": [],
   "source": [
    "# Depth-Area function for rectangular channel\n",
    "def area(depth,width):\n",
    "    area=depth*width;\n",
    "    return(area)"
   ]
  },
  {
   "cell_type": "markdown",
   "metadata": {},
   "source": [
    "The next listing is a depth wetted-perimeter function for a rectangular geometry."
   ]
  },
  {
   "cell_type": "code",
   "execution_count": 177,
   "metadata": {},
   "outputs": [],
   "source": [
    "# Depth-Wetted perimeter function for rectangular channel\n",
    "def perimeter(depth,width):\n",
    "    perimeter=2*depth+width;\n",
    "    return(perimeter)"
   ]
  },
  {
   "cell_type": "markdown",
   "metadata": {},
   "source": [
    "Listing below is a listing of the code for the hydraulic radius (ratio of the above results),\n",
    "this is a generic function, it does not need to know the flow geometry"
   ]
  },
  {
   "cell_type": "code",
   "execution_count": 177,
   "metadata": {},
   "outputs": [],
   "source": [
    "# Hydraulic radius function\n",
    "def radius(area,perimeter):\n",
    "    radius=area/perimeter;\n",
    "    return(radius)"
   ]
  },
  {
   "cell_type": "markdown",
   "metadata": {},
   "source": [
    "The next section is a listing of code for the friction slope given Manning's n, discharge,\n",
    "hydraulic radius, and flow area. This function implicitly assumes SI units\n",
    "(the 1.49 constant in U.S. Customary units is not present). For U.S. Customary units\n",
    "either add the constant or convert the US units into equivalent SI units."
   ]
  },
  {
   "cell_type": "code",
   "execution_count": 177,
   "metadata": {},
   "outputs": [],
   "source": [
    "# Friction slope function\n",
    "def slope_f(discharge,mannings_n,area,radius):\n",
    "    slope_f=(discharge**2)*(mannings_n**2)/( (radius**(4./3))*(area**2) ); #compute friction slope\n",
    "    return(slope_f)"
   ]
  },
  {
   "cell_type": "code",
   "execution_count": 177,
   "metadata": {},
   "outputs": [],
   "source": []
  },
  {
   "cell_type": "code",
   "execution_count": 177,
   "metadata": {},
   "outputs": [],
   "source": [
    "# 2-point average\n",
    "def avg2point(x1,x2):\n",
    "    avg2point=0.5*(x1+x2);\n",
    "    return(avg2point)"
   ]
  },
  {
   "cell_type": "markdown",
   "metadata": {},
   "source": [
    "The semi-colons in the functions are probably unnecessary, but have value because it\n",
    "forces the expression to its left to be evaluated and helps prevent ambiguous code.\n",
    "Also notice the use of indention as a scope delimiter, the delimiter is required. "
   ]
  },
  {
   "cell_type": "markdown",
   "metadata": {},
   "source": [
    "## Describe the actual BW computes\n",
    "\n",
    "At this point, we have 5 useful, testable functions (and we should test before\n",
    "the next step.\n",
    "\n",
    "The next listing is the step-backwater method implemented as a function. This function\n",
    "computes the space steps, changes in depth, etc. as per the algorithm. The function illustrates count\n",
    "controlled repetition (for loops), list indexing, and use of the utility functions to\n",
    "make the code readable as well as ensure that the parts work before the whole program\n",
    "is assembled. This concept is really crucial, if you can build a tool of parts that are\n",
    "known to work, it helps keep logic errors contained to known locations."
   ]
  },
  {
   "cell_type": "code",
   "execution_count": 252,
   "metadata": {},
   "outputs": [],
   "source": [
    "# Backwater curve function\n",
    "def backwater(begin_depth,end_depth,how_many,discharge,width,mannings_n,slope):\n",
    "#\n",
    "## Example function call\n",
    "##  zz<-backwater(begin_depth=8,end_depth=5,how_many=30,discharge=55.4,width=5,mannings_n=0.02,slope=0.001)\n",
    "## Numerical values are values used in essay, they correspond to a particuar example from Koutitas 1983\n",
    "#\n",
    "# Other functions must exist otherwise will spawn errors\n",
    "#\n",
    "# Prepare space for vectors\n",
    "    twog=2.0*9.8\n",
    "    depth=[]  # numeric vector for depths\n",
    "    velocity=[]  # numeric vector for velocities\n",
    "    deltax=[] # numeric vector for spatial steps\n",
    "    distance=[] # space for computing cumulative distances\n",
    "    bse=[] # numeric vector for bottom elevations\n",
    "    wse=[] # numeric vector for water surface elevations\n",
    "    delta_depth=(begin_depth-end_depth)/(how_many)  # change in depth for finding spatial steps\n",
    "    #print(delta_depth)\n",
    "    depth.append(begin_depth) # assign downstream value\n",
    "    for i in range(1,how_many):\n",
    "        depth.append(depth[0] - (i+1)*delta_depth) # uniform depths\n",
    "    for i in range(0,how_many):\n",
    "        velocity.append(discharge/area(depth[i],width))\n",
    "    for i in range(0,how_many-1):\n",
    "        depth_bar=avg2point(depth[i+1],depth[i]); #compute average depth in reach\n",
    "        area_bar=area(depth_bar,width); #compute average area in reach\n",
    "        perimeter_bar=perimeter(depth_bar,width); #compute average wetted perimeter\n",
    "        radius_bar=radius(area_bar,perimeter_bar); #compute average hydraulic radius\n",
    "        friction=slope_f(discharge,mannings_n,area_bar,radius_bar) #compute friction slope\n",
    "        snrgup =(depth[i+1]+((velocity[i+1]**2)/twog))\n",
    "        snrgdn =(depth[i] + ((velocity[i]**2)/twog))\n",
    "        step =(snrgup - snrgdn)/(slope-friction) # compute change in distance for each change in depth\n",
    "        deltax.append(step)\n",
    "    distance.append(0.0)\n",
    "    bse.append(0.0)\n",
    "    for i in range(1,how_many):\n",
    "        distance.append(distance[i-1]+deltax[i-1]); # spatial distances\n",
    "        bse.append(bse[i-1]-deltax[i-1]*slope); # bottom elevations\n",
    "    for i in range(0,how_many):\n",
    "        wse.append(bse[i]+depth[i]) # water surface elevations\n",
    "    return(distance,wse,bse,depth,deltax,velocity)"
   ]
  },
  {
   "cell_type": "markdown",
   "metadata": {},
   "source": [
    "### Function call with plotting"
   ]
  },
  {
   "cell_type": "code",
   "execution_count": 263,
   "metadata": {},
   "outputs": [
    {
     "data": {
      "image/png": "[encoded data removed]",
      "text/plain": [
       "<Figure size 1152x576 with 1 Axes>"
      ]
     },
     "metadata": {
      "needs_background": "light"
     },
     "output_type": "display_data"
    }
   ],
   "source": [
    "# call the function - output is a tuple, use this fact in the plotting build\n",
    "output = backwater(begin_depth=8.0,end_depth=5.0,how_many=31,discharge=55.4,width=5.0,mannings_n=0.02,slope=0.001)\n",
    "# Now plot the water surface profile\n",
    "import matplotlib.pyplot\n",
    "myfigure = matplotlib.pyplot.figure(figsize = (16,8)) # generate a object from the figure class, set aspect ratio\n",
    "# Built the plot\n",
    "matplotlib.pyplot.plot(output[0], output[2],  color ='brown', linewidth=3)\n",
    "matplotlib.pyplot.plot(output[0], output[1],  color ='blue', linewidth=5)\n",
    "matplotlib.pyplot.ylabel(\"Elevation (meters)\")\n",
    "matplotlib.pyplot.xlabel(\"Distance (meters)\")\n",
    "mytitle = \"Water Surface Profile - Variable Spatial Step Method\"\n",
    "matplotlib.pyplot.title(mytitle)\n",
    "matplotlib.pyplot.show()"
   ]
  },
  {
   "cell_type": "markdown",
   "metadata": {},
   "source": [
    "## References\n",
    "Koutitas, C. G. 1983. Elements of Computational Hydraulics. ISBN 0-412-00361-9. Pentech Press Ltd. London. (Chapter 4) [http://54.243.252.9/ce-5362-psuedo-course/3-Readings/PracticalComputationalHydraulics-Kousitas/ElementsOfComputationalHydraulics.pdf](http://54.243.252.9/ce-5362-psuedo-course/3-Readings/PracticalComputationalHydraulics-Kousitas/ElementsOfComputationalHydraulics.pdf)\n",
    "\n",
    "Roberson, J. A., Cassidy, J.J., and Chaudry, M. H., (1988) Hydraulic Engineering, Houghton Mifflin Co (Chapter 10) [http://54.243.252.9/ce-5362-psuedo-course/3-Readings/HydraulicEngineering/](http://54.243.252.9/ce-5362-psuedo-course/3-Readings/HydraulicEngineering/)\n",
    "\n",
    "Sturm T.W (2001) Open Channel Hydraulics, 1ed., McGraw-Hill, New York. Note: This PDF is from an international edition published in Singapore. [http://54.243.252.9/ce-5362-psuedo-course/3-Readings/OpenChannelHYdraulics/](http://54.243.252.9/ce-5362-psuedo-course/3-Readings/OpenChannelHYdraulics/)\n",
    "\n",
    "Cunge, J.A., Holly, F.M., Verwey, A. (1980). Practical Aspects of Computational\n",
    "River Hydraulics. Pittman Publishing Inc. , Boston, MA. pp. 7-50"
   ]
  },
  {
   "cell_type": "code",
   "execution_count": null,
   "metadata": {},
   "outputs": [],
   "source": []
  }
 ],
 "metadata": {
  "kernelspec": {
   "display_name": "Python 3",
   "language": "python",
   "name": "python3"
  },
  "language_info": {
   "codemirror_mode": {
    "name": "ipython",
    "version": 3
   },
   "file_extension": ".py",
   "mimetype": "text/x-python",
   "name": "python",
   "nbconvert_exporter": "python",
   "pygments_lexer": "ipython3",
   "version": "3.8.5"
  }
 },
 "nbformat": 4,
 "nbformat_minor": 4
}
