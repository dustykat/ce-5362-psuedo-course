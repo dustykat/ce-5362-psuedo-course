{
 "cells": [
  {
   "cell_type": "markdown",
   "metadata": {},
   "source": [
    "# CE 5362 Lesson 2 Part 1 Modeling Philosophy\n",
    "\n",
    "- Modeling\n",
    "    - What is a model?\n",
    "    - Why model?\n",
    "- Parsimony\n",
    "- Modeling Protocol\n",
    "- Algorithms and Programming"
   ]
  },
  {
   "cell_type": "markdown",
   "metadata": {},
   "source": [
    "## Modeling\n",
    "\n",
    "Computational hydraulics aims to provide the engineer with guidance for correct design, construction, and operation of hydraulic works, including closed conduit, open conduit, and porous flow systems. The computational procedures are reasonably complex and typically beyond the limits of hand computation; computer programs are necessary and required for many computational hydraulics problems.\n",
    "\n",
    "- Modeling is the art of representing reality in a simplified form, sufficient to answer questions about that reality"
   ]
  },
  {
   "cell_type": "markdown",
   "metadata": {},
   "source": [
    "### What is a Model?\n",
    "\n",
    "There are many definitions, a few are:\n",
    "\n",
    "1. A model is a simplification of reality that duplicates the excitation-response of the real system but is faster, smaller, or more practical to study than the real system.\n",
    "\n",
    "2. A mathematical model is composed of mathematical expressions quantifying fundamental physical principles (force, energy, mass, etc.). These expressions are adapted and simplified in each case to the special features of the problem to be tackled.\n",
    "3. A model is any device that represents an approximation of a field situation.\n",
    "\n",
    "There are several categories of models: \n",
    "\n",
    "1. **Physical models** such as laboratory sand tanks, flumes, pipe networks, porous columns, batch reactors, and pilot plants are used to directly simulate various conditions anticipated in full scale settings. Physical models tend to be the most costly to build from scratch, but many questions cannot be answered without these kind of model\n",
    "\n",
    "2. **Analog models** such as electric circuit analogs or Hele-Shaw analogs are used to indirectly simulate field conditions by direct simulation in a domain analogous to the real setting.  Analog computers are quite rare today, but in the 1960's were a principal tool in modeling and were used in aerospace as well as mundane civil engineering applications. A laboratory mouse used to test medicine doses (usually for lethality) is an example of an analog model for human testing. Bear (1972), Chapter 11 provides an excellent background on analog models. The treatment is mostly aimed at porous medium flow, but the concepts are generic. The book has some nice photographs of electric-analog computers (which are rare today).\n",
    "\n",
    "3. **Mathematical models** indirectly simulate field conditions by solution of a governing equation thought to represent the system, along with auxiliary equations that describe the boundary and forcing conditions. These physics and chemical relationships are represented as sets of algebraic equations. Conversion from physics to the computer is via finite-difference, finite-element, finite-volume analysis. Particle tracking is an alternate approach. Mathematical models are solved analytically or numerically -- both solutions may require a computer.\n",
    "\n",
    "    - The set of commands used to solve a mathematical problem on a computer is the program or code. \n",
    "    - The code is generic, whereas a model is comprised of boundary and initial conditions, a computational grid, material properties on that grid, and forcing terms. \n",
    "    - Thus a model is **both** the data and code, whereas the code alone is just a tool waiting for use.\n",
    "\n",
    "Another kind of model is a statistical (or data model) model that relates observations to excitations without necessarily attempting to relate underlying physics of the problem (Machine Learning; Neural Networks, Regression Trees, Support Vector Machines are these kind of models). \n",
    "\n",
    "All the kinds of models are useful and appropriate tools in their various applications."
   ]
  },
  {
   "cell_type": "markdown",
   "metadata": {},
   "source": [
    "### Why Model?\n",
    "\n",
    "There are several good reasons to model, and many poor reasons. \n",
    "- Most modeling efforts are attempts to predict the consequences of a proposed design or operation strategy. \n",
    "- Models can also be used to interpret system dynamics or as a framework for organizing data. \n",
    "- Models can also be used to study processes in generic settings. Generic models are useful in formulating regulatory guidelines and as screening tools to identify suitable or unsuitable designs.\n",
    "\n",
    "These three modeling applications are fundamentally different -- even though they use the same toolkits. \n",
    "\n",
    "Table 1 lists these three application types along with some opinions as to the need to calibrate.\n",
    "\n",
    "|Table 1. Types of Model Applications|\n",
    "|---|\n",
    "\n",
    "|Model Type|Uses|Remarks|\n",
    "|:---|:---|:---|\n",
    "|Predictive|Used to predict responses to changes. What if ...?|Requires Calibration|\n",
    "|Interpretive|Used as a framework for studying system dynamics; framework for organzing data|Calibraton Optional|\n",
    "|Generic|Analyze behavior in hypothetical systems; useful for framing regulatory/control guidelines|Calibraton Optional|"
   ]
  },
  {
   "cell_type": "markdown",
   "metadata": {},
   "source": [
    "Models should be investigated and used only if they can answer questions that need to be answered.  \n",
    "- A list of questions should be prepared prior to beginning a modeling exercise, there are likely some situations where a model may not even be needed. \n",
    "- Models should not be expected to “prove\" anything -- a computer model cannot prove anything.\n",
    "- Models are useful to identify poor solutions to a problem, but rarely can they identify best solutions.\n",
    "- Models can be used to evaluate alternative designs (and this task is a good use of a model). \n",
    "- Models can occasionally be used to detect natural relationships that would otherwise go unnoticed."
   ]
  },
  {
   "cell_type": "markdown",
   "metadata": {},
   "source": [
    "### Principle of Parsimony\n",
    "\n",
    "The principle of parsimony is fundamental in engineering modeling. A model should only be as complex as necessary to answer the questions asked of it. All other things being equal a simpler model (fewer parameters) is preferred to a complicated model. This principle is sometimes referred to as Occam's razor."
   ]
  },
  {
   "cell_type": "markdown",
   "metadata": {},
   "source": [
    "### A Modeling Protocol\n",
    "\n",
    "A straightforward modeling protocol can be modeled on the classic \"Scientific Method\"\n",
    "\n",
    "1. List the questions that need to be answered -- this step is crucial, it is the problem statement.\n",
    "2. List the available and necessary data to answer the questions. \n",
    "\n",
    "If the data do not exist, that fact should also be noted.\n",
    "\n",
    "3. Assuming a model is the best tool, list the physical principles that need to be preserved in a model.\n",
    "4. Develop and test an `algorithm` to simulate the physical principles. In many cases, a professional program will be the tool of choice, although sometimes a “roll-your-own” approach makes better sense. \n",
    "    - Prior to actually solving the problem in question, develop and test simple problems to which you know the answer. This exercise develops the modelers skill and builds confidence in the tool.\n",
    "5. Apply the model working from a simple, known solution towards the problem to which you seek the actual solution. \n",
    "    - This step requires keeping a “simulation log.\" In this log, file names should be recorded \u000b",
    "(input files should change name each new run  -- record in the log the general nature of each simulation, the output, and the modelers interpretation for each new run)\n",
    "6. When the real problem is run construct professional exhibits (graphs, tables, etc.) for inclusion in the modeling report. \n",
    "\n",
    "Pages of output may be meaningful, but are not sufficient for a professional document.\n",
    "\n",
    "7. Build the modeling report, including the methods used, inputs and assumptions, outputs (results) and their interpretation in the context of the original problem.\n",
    "\n",
    "Anderson and Woessner (1992), pages 2 - 10, is an excellent discussion of modeling philosophy and protocol. Their book is also aimed at porous \n",
    "flow modeling, but again the concepts are generic. The reader will find these notes borrow (nearly verbatim!) from this reference source."
   ]
  },
  {
   "cell_type": "markdown",
   "metadata": {},
   "source": [
    "### Algorithm\n",
    "\n",
    "An algorithmic procedure can be represented as\n",
    "\n",
    "$x = f(a) $\n",
    "\n",
    "From a mathematical perspective the main concern is that the algorithm is well\n",
    "posed:\n",
    "\n",
    "   1. A solution exists for a given $a$.\n",
    "   2. The computation must lead to a single solution for $x$ given $a$.\n",
    "   3. The results for x must be connected to the input a through the Lipschitz relation: \n",
    "   - $|\\delta a| < \\eta ~\\texttt{then}~ |\\delta x| < M|\\delta a| $ where M is a bounded natural number, $M = M(a;\\eta)$. \n",
    "   - Many problems are not well posed as stated, but with some reasonable assumptions can be forced into such a state.\n",
    "\n",
    "Thus an algorithm is a recipe to take input data and produce output responses through\n",
    "some relationships. If a well posed problem then each result is related to the inputs, and the\n",
    "same inputs (in an algorithm) produce the same results. By the recipe analogy, if you follow\n",
    "the same recipe each time with the same raw materials then the cake should taste the same\n",
    "when it is baked.\n",
    "\n",
    "An important concept from above is that an algorithm operates on data (a procedure-oriented approach); whereas an object-oriented view is that an algorithm performs a task (generate response) based on states established by the data. Both points of view are valid and equivalent.\n",
    "Most computational hydraulics models were built (by a quirk of history) in a procedure-\n",
    "oriented perspective. More recent tools are somewhat of a hybrid creation.\n",
    "\n",
    "### Tools\n",
    "\n",
    "A practicing modeler needs a toolkit - these tools range from the actual computation engines (EPA-SWMM, HEC-RAS, FESWMS, HSPF, WSPRO, TR-20, etc.) to analysis tools for result interpretation (Python, R, Excel, etc.) to actual programming tools (Python, R, C, FORTRAN, PERL, etc.) to\n",
    "construct their own special purpose models or to test results from general purpose profes-\n",
    "sional models.\n",
    "\n",
    "In this course, Python will be used (interchangeably where practical) for\n",
    "programming and analysis. Professional codes (i.e. EPA-SWMM, EFDC, HEC-RAS, etc. will be used later in the course for semi-professional\n",
    "applications.\n",
    "\n",
    "### Programming\n",
    "\n",
    "Why bother with any programming? There are three fundamental reasons for a programming experience in this (or any such) class:\n",
    "1. Teaching someone else a subject or procedure forces the teacher to have a reasonable understanding of the subject or procedure. Teaching a computer (by virtue of programming) forces a very deep understanding of the underlying algorithm.\n",
    "2. You will encounter situations that general purpose programs are not designed to address; if you have even only a moderate ability to build your own tools when you need to, then you can. In all likliehood, you will \"trick\" the professional program, but you cannot invent tricks unless you know a little bit about programming.\n",
    "3. Programming a computer requires an algorithmic thought process - this process is valuable in many other areas of engineering, hence the act of programming is good discipline for other problems you will encounter.\n",
    "\n",
    "Why Python?  Admittedly not my first choice, but in keeping with the WCOE emerging emphasis on Computational Thinking and the college's choice to standardize on Python 3.X (as implemented in Jupyter notebooks) that's the tool for this class. \n",
    "\n",
    "Because the goal in most cases is to answer a question using the tools, other choices are fine (R, C, C++, FORTRAN90, etc.), but I won't try very hard to help you debug your scripts if they are in R, C or FORTRAN.  "
   ]
  },
  {
   "cell_type": "markdown",
   "metadata": {},
   "source": [
    "## References\n",
    "\n",
    "Anderson, M. P. and W. W. Woessner (1992). Applied Groundwater Modeling. San Diego: Academic Press. (pp 2-10)\n",
    "\n",
    "Bear, J. (1972). Dynamics of Fluids in Porous Media. New York: Dover Publications, Inc. (Chapter 11)"
   ]
  },
  {
   "cell_type": "code",
   "execution_count": null,
   "metadata": {},
   "outputs": [],
   "source": []
  }
 ],
 "metadata": {
  "kernelspec": {
   "display_name": "Python 3",
   "language": "python",
   "name": "python3"
  },
  "language_info": {
   "codemirror_mode": {
    "name": "ipython",
    "version": 3
   },
   "file_extension": ".py",
   "mimetype": "text/x-python",
   "name": "python",
   "nbconvert_exporter": "python",
   "pygments_lexer": "ipython3",
   "version": "3.8.5"
  }
 },
 "nbformat": 4,
 "nbformat_minor": 4
}
