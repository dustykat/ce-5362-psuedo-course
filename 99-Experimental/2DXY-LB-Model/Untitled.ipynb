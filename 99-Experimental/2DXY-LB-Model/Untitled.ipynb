{
 "cells": [
  {
   "cell_type": "code",
   "execution_count": 1,
   "metadata": {},
   "outputs": [],
   "source": [
    "# LatticeBoltzmannDemo.py:  a two-dimensional lattice-Boltzmann \"wind tunnel\" simulation\n",
    "# Uses numpy to speed up all array handling.\n",
    "# Uses matplotlib to plot and animate the curl of the macroscopic velocity field.\n",
    "\n",
    "# Copyright 2013, Daniel V. Schroeder (Weber State University) 2013\n",
    "\n",
    "# Permission is hereby granted, free of charge, to any person obtaining a copy of \n",
    "# this software and associated data and documentation (the \"Software\"), to deal in \n",
    "# the Software without restriction, including without limitation the rights to \n",
    "# use, copy, modify, merge, publish, distribute, sublicense, and/or sell copies \n",
    "# of the Software, and to permit persons to whom the Software is furnished to do \n",
    "# so, subject to the following conditions:\n",
    "\n",
    "# The above copyright notice and this permission notice shall be included in all \n",
    "# copies or substantial portions of the Software.\n",
    "\n",
    "# THE SOFTWARE IS PROVIDED \"AS IS\", WITHOUT WARRANTY OF ANY KIND, EXPRESS OR IMPLIED, \n",
    "# INCLUDING BUT NOT LIMITED TO THE WARRANTIES OF MERCHANTABILITY, FITNESS FOR A \n",
    "# PARTICULAR PURPOSE AND NONINFRINGEMENT. IN NO EVENT SHALL THE AUTHOR BE LIABLE FOR \n",
    "# ANY CLAIM, DAMAGES OR OTHER LIABILITY, WHETHER IN AN ACTION OF CONTRACT, TORT OR \n",
    "# OTHERWISE, ARISING FROM, OUT OF OR IN CONNECTION WITH THE SOFTWARE OR THE USE OR \n",
    "# OTHER DEALINGS IN THE SOFTWARE.\n",
    "\n",
    "# Except as contained in this notice, the name of the author shall not be used in \n",
    "# advertising or otherwise to promote the sale, use or other dealings in this \n",
    "# Software without prior written authorization.\n",
    "\n",
    "# Credits:\n",
    "# The \"wind tunnel\" entry/exit conditions are inspired by Graham Pullan's code\n",
    "# (http://www.many-core.group.cam.ac.uk/projects/LBdemo.shtml).  Additional inspiration from \n",
    "# Thomas Pohl's applet (http://thomas-pohl.info/work/lba.html).  Other portions of code are based \n",
    "# on Wagner (http://www.ndsu.edu/physics/people/faculty/wagner/lattice_boltzmann_codes/) and\n",
    "# Gonsalves (http://www.physics.buffalo.edu/phy411-506-2004/index.html; code adapted from Succi,\n",
    "# http://global.oup.com/academic/product/the-lattice-boltzmann-equation-9780199679249).\n",
    "\n",
    "# For related materials see http://physics.weber.edu/schroeder/fluids\n",
    "\n",
    "import numpy, time, matplotlib.pyplot, matplotlib.animation\n",
    "\n",
    "# Define constants:\n",
    "height = 80\t\t\t\t\t\t\t# lattice dimensions\n",
    "width = 200\n",
    "viscosity = 0.02\t\t\t\t\t# fluid viscosity\n",
    "omega = 1 / (3*viscosity + 0.5)\t\t# \"relaxation\" parameter\n",
    "u0 = 0.1\t\t\t\t\t\t\t# initial and in-flow speed\n",
    "four9ths = 4.0/9.0\t\t\t\t\t# abbreviations for lattice-Boltzmann weight factors\n",
    "one9th   = 1.0/9.0\n",
    "one36th  = 1.0/36.0\n",
    "performanceData = False\t\t\t\t# set to True if performance data is desired\n",
    "\n",
    "# Initialize all the arrays to steady rightward flow:\n",
    "n0 = four9ths * (numpy.ones((height,width)) - 1.5*u0**2)\t# particle densities along 9 directions\n",
    "nN = one9th * (numpy.ones((height,width)) - 1.5*u0**2)\n",
    "nS = one9th * (numpy.ones((height,width)) - 1.5*u0**2)\n",
    "nE = one9th * (numpy.ones((height,width)) + 3*u0 + 4.5*u0**2 - 1.5*u0**2)\n",
    "nW = one9th * (numpy.ones((height,width)) - 3*u0 + 4.5*u0**2 - 1.5*u0**2)\n",
    "nNE = one36th * (numpy.ones((height,width)) + 3*u0 + 4.5*u0**2 - 1.5*u0**2)\n",
    "nSE = one36th * (numpy.ones((height,width)) + 3*u0 + 4.5*u0**2 - 1.5*u0**2)\n",
    "nNW = one36th * (numpy.ones((height,width)) - 3*u0 + 4.5*u0**2 - 1.5*u0**2)\n",
    "nSW = one36th * (numpy.ones((height,width)) - 3*u0 + 4.5*u0**2 - 1.5*u0**2)\n",
    "rho = n0 + nN + nS + nE + nW + nNE + nSE + nNW + nSW\t\t# macroscopic density\n",
    "ux = (nE + nNE + nSE - nW - nNW - nSW) / rho\t\t\t\t# macroscopic x velocity\n",
    "uy = (nN + nNE + nNW - nS - nSE - nSW) / rho\t\t\t\t# macroscopic y velocity"
   ]
  },
  {
   "cell_type": "code",
   "execution_count": 2,
   "metadata": {},
   "outputs": [],
   "source": [
    "# Initialize barriers:\n",
    "barrier = numpy.zeros((height,width), bool)\t\t\t\t\t# True wherever there's a barrier\n",
    "barrier[int(height/2)-8:int(height/2)+8, int(height/2)] = True\t\t\t# simple linear barrier\n",
    "barrierN = numpy.roll(barrier,  1, axis=0)\t\t\t\t\t# sites just north of barriers\n",
    "barrierS = numpy.roll(barrier, -1, axis=0)\t\t\t\t\t# sites just south of barriers\n",
    "barrierE = numpy.roll(barrier,  1, axis=1)\t\t\t\t\t# etc.\n",
    "barrierW = numpy.roll(barrier, -1, axis=1)\n",
    "barrierNE = numpy.roll(barrierN,  1, axis=1)\n",
    "barrierNW = numpy.roll(barrierN, -1, axis=1)\n",
    "barrierSE = numpy.roll(barrierS,  1, axis=1)\n",
    "barrierSW = numpy.roll(barrierS, -1, axis=1)"
   ]
  },
  {
   "cell_type": "code",
   "execution_count": 3,
   "metadata": {},
   "outputs": [],
   "source": [
    "# Move all particles by one step along their directions of motion (pbc):\n",
    "def stream():\n",
    "\tglobal nN, nS, nE, nW, nNE, nNW, nSE, nSW\n",
    "\tnN  = numpy.roll(nN,   1, axis=0)\t# axis 0 is north-south; + direction is north\n",
    "\tnNE = numpy.roll(nNE,  1, axis=0)\n",
    "\tnNW = numpy.roll(nNW,  1, axis=0)\n",
    "\tnS  = numpy.roll(nS,  -1, axis=0)\n",
    "\tnSE = numpy.roll(nSE, -1, axis=0)\n",
    "\tnSW = numpy.roll(nSW, -1, axis=0)\n",
    "\tnE  = numpy.roll(nE,   1, axis=1)\t# axis 1 is east-west; + direction is east\n",
    "\tnNE = numpy.roll(nNE,  1, axis=1)\n",
    "\tnSE = numpy.roll(nSE,  1, axis=1)\n",
    "\tnW  = numpy.roll(nW,  -1, axis=1)\n",
    "\tnNW = numpy.roll(nNW, -1, axis=1)\n",
    "\tnSW = numpy.roll(nSW, -1, axis=1)\n",
    "\t# Use tricky boolean arrays to handle barrier collisions (bounce-back):\n",
    "\tnN[barrierN] = nS[barrier]\n",
    "\tnS[barrierS] = nN[barrier]\n",
    "\tnE[barrierE] = nW[barrier]\n",
    "\tnW[barrierW] = nE[barrier]\n",
    "\tnNE[barrierNE] = nSW[barrier]\n",
    "\tnNW[barrierNW] = nSE[barrier]\n",
    "\tnSE[barrierSE] = nNW[barrier]\n",
    "\tnSW[barrierSW] = nNE[barrier]"
   ]
  },
  {
   "cell_type": "code",
   "execution_count": 4,
   "metadata": {},
   "outputs": [],
   "source": [
    "# Collide particles within each cell to redistribute velocities (could be optimized a little more):\n",
    "def collide():\n",
    "\tglobal rho, ux, uy, n0, nN, nS, nE, nW, nNE, nNW, nSE, nSW\n",
    "\trho = n0 + nN + nS + nE + nW + nNE + nSE + nNW + nSW\n",
    "\tux = (nE + nNE + nSE - nW - nNW - nSW) / rho\n",
    "\tuy = (nN + nNE + nNW - nS - nSE - nSW) / rho\n",
    "\tux2 = ux * ux\t\t\t\t# pre-compute terms used repeatedly...\n",
    "\tuy2 = uy * uy\n",
    "\tu2 = ux2 + uy2\n",
    "\tomu215 = 1 - 1.5*u2\t\t\t# \"one minus u2 times 1.5\"\n",
    "\tuxuy = ux * uy\n",
    "\tn0 = (1-omega)*n0 + omega * four9ths * rho * omu215\n",
    "\tnN = (1-omega)*nN + omega * one9th * rho * (omu215 + 3*uy + 4.5*uy2)\n",
    "\tnS = (1-omega)*nS + omega * one9th * rho * (omu215 - 3*uy + 4.5*uy2)\n",
    "\tnE = (1-omega)*nE + omega * one9th * rho * (omu215 + 3*ux + 4.5*ux2)\n",
    "\tnW = (1-omega)*nW + omega * one9th * rho * (omu215 - 3*ux + 4.5*ux2)\n",
    "\tnNE = (1-omega)*nNE + omega * one36th * rho * (omu215 + 3*(ux+uy) + 4.5*(u2+2*uxuy))\n",
    "\tnNW = (1-omega)*nNW + omega * one36th * rho * (omu215 + 3*(-ux+uy) + 4.5*(u2-2*uxuy))\n",
    "\tnSE = (1-omega)*nSE + omega * one36th * rho * (omu215 + 3*(ux-uy) + 4.5*(u2-2*uxuy))\n",
    "\tnSW = (1-omega)*nSW + omega * one36th * rho * (omu215 + 3*(-ux-uy) + 4.5*(u2+2*uxuy))\n",
    "\t# Force steady rightward flow at ends (no need to set 0, N, and S components):\n",
    "\tnE[:,0] = one9th * (1 + 3*u0 + 4.5*u0**2 - 1.5*u0**2)\n",
    "\tnW[:,0] = one9th * (1 - 3*u0 + 4.5*u0**2 - 1.5*u0**2)\n",
    "\tnNE[:,0] = one36th * (1 + 3*u0 + 4.5*u0**2 - 1.5*u0**2)\n",
    "\tnSE[:,0] = one36th * (1 + 3*u0 + 4.5*u0**2 - 1.5*u0**2)\n",
    "\tnNW[:,0] = one36th * (1 - 3*u0 + 4.5*u0**2 - 1.5*u0**2)\n",
    "\tnSW[:,0] = one36th * (1 - 3*u0 + 4.5*u0**2 - 1.5*u0**2)"
   ]
  },
  {
   "cell_type": "code",
   "execution_count": 5,
   "metadata": {},
   "outputs": [],
   "source": [
    "# Compute curl of the macroscopic velocity field:\n",
    "def curl(ux, uy):\n",
    "\treturn numpy.roll(uy,-1,axis=1) - numpy.roll(uy,1,axis=1) - numpy.roll(ux,-1,axis=0) + numpy.roll(ux,1,axis=0)"
   ]
  },
  {
   "cell_type": "code",
   "execution_count": 15,
   "metadata": {},
   "outputs": [
    {
     "data": {
      "image/png": "[encoded data removed]",
      "text/plain": [
       "<Figure size 576x216 with 1 Axes>"
      ]
     },
     "metadata": {
      "needs_background": "light"
     },
     "output_type": "display_data"
    }
   ],
   "source": [
    "# Here comes the graphics and animation...\n",
    "theFig = matplotlib.pyplot.figure(figsize=(8,3))\n",
    "fluidImage = matplotlib.pyplot.imshow(curl(ux, uy), origin='lower', norm=matplotlib.pyplot.Normalize(-.1,.1), \n",
    "\t\t\t\t\t\t\t\t\tcmap=matplotlib.pyplot.get_cmap('jet'), interpolation='none')\n",
    "\t\t# See http://www.loria.fr/~rougier/teaching/matplotlib/#colormaps for other cmap options\n",
    "bImageArray = numpy.zeros((height, width, 4), numpy.uint8)\t# an RGBA image\n",
    "bImageArray[barrier,3] = 255\t\t\t\t\t\t\t\t# set alpha=255 only at barrier sites\n",
    "barrierImage = matplotlib.pyplot.imshow(bImageArray, origin='lower', interpolation='none')\n",
    "# Function called for each successive animation frame:\n",
    "startTime = time.perf_counter()\n",
    "#frameList = open('frameList.txt','w')\t\t# file containing list of images (to make movie)\n",
    "def nextFrame(arg):\t\t\t\t\t\t\t# (arg is the frame number, which we don't need)\n",
    "\tglobal startTime\n",
    "\tif performanceData and (arg%100 == 0) and (arg > 0):\n",
    "\t\tendTime = time.perf_counter()\n",
    "\t\tprint( \"%1.1f\" % (100/(endTime-startTime)), 'frames per second')\n",
    "\t\tstartTime = endTime\n",
    "\t#frameName = \"frame%04d.png\" % arg\n",
    "\t#matplotlib.pyplot.savefig(frameName)\n",
    "\t#frameList.write(frameName + '\\n')\n",
    "\tfor step in range(20):\t\t\t\t\t# adjust number of steps for smooth animation\n",
    "\t\tstream()\n",
    "\t\tcollide()\n",
    "\tfluidImage.set_array(curl(ux, uy))\n",
    "\treturn (fluidImage, barrierImage)\t\t# return the figure elements to redraw\n",
    "\n",
    "#animate = matplotlib.animation.FuncAnimation(theFig, nextFrame, interval=1, blit=True)\n",
    "#matplotlib.pyplot.show()"
   ]
  },
  {
   "cell_type": "code",
   "execution_count": null,
   "metadata": {},
   "outputs": [],
   "source": []
  },
  {
   "cell_type": "code",
   "execution_count": null,
   "metadata": {},
   "outputs": [],
   "source": []
  },
  {
   "cell_type": "code",
   "execution_count": null,
   "metadata": {},
   "outputs": [],
   "source": []
  }
 ],
 "metadata": {
  "kernelspec": {
   "display_name": "Python 3",
   "language": "python",
   "name": "python3"
  },
  "language_info": {
   "codemirror_mode": {
    "name": "ipython",
    "version": 3
   },
   "file_extension": ".py",
   "mimetype": "text/x-python",
   "name": "python",
   "nbconvert_exporter": "python",
   "pygments_lexer": "ipython3",
   "version": "3.8.5"
  }
 },
 "nbformat": 4,
 "nbformat_minor": 4
}
