{
 "cells": [
  {
   "cell_type": "code",
   "execution_count": null,
   "metadata": {},
   "outputs": [],
   "source": [
    "# python notebook for debug 2dflow code"
   ]
  },
  {
   "cell_type": "code",
   "execution_count": 22,
   "metadata": {},
   "outputs": [
    {
     "name": "stdout",
     "output_type": "stream",
     "text": [
      "Error in command line input\n",
      "Run as: python 2dflow.py <L> <nc> <nk> <dt> <theta> <ntime>\n",
      "L: channel length; nc: number of horizontal cells; nk: number of vertical layers\n",
      "dt: time step size; ntime: number of time steps\n",
      "theta: theta value for theta method. 1 for fully implicit (recommanded value 0.55)\n",
      "Also run as: python 2dflow.py default\n",
      "The program will run the default problem shown in the write up\n"
     ]
    }
   ],
   "source": [
    "import grid\n",
    "import phys\n",
    "import initial\n",
    "import boundary\n",
    "import numpy as np\n",
    "import matplotlib.pyplot as plt\n",
    "import time\n",
    "import scalar as sc\n",
    "import sys\n",
    "\n",
    "if __name__ == \"__main__\":\n",
    "    try:\n",
    "        if sys.argv[1]=='default':\n",
    "            L=10000;\n",
    "            nc=100;\n",
    "            nk=10;\n",
    "            dt=1;\n",
    "            theta=0.55;\n",
    "            ntime=1350;\n",
    "        else:\n",
    "            L=sys.argv[1]\n",
    "            nc=sys.argv[2]\n",
    "            nk=sys.argv[3]\n",
    "            dt=sys.argv[4]\n",
    "            theta=sys.argv[6]\n",
    "            ntime=sys.argv[5]\n",
    "            xc,xe,d,zb,zt,Nk,dz=grid.GridGeneration(L,nc,nk)\n",
    "            h,u,w,s,cdb=phys.Solve(ntime,dt,nc,xc,xe,d,zb,zt,nk,Nk,dz,theta,1)\n",
    "    except (ValueError, IndexError):\n",
    "        print(\"Error in command line input\")\n",
    "        print(\"Run as: python 2dflow.py <L> <nc> <nk> <dt> <theta> <ntime>\")\n",
    "        print(\"L: channel length; nc: number of horizontal cells; nk: number of vertical layers\")\n",
    "        print(\"dt: time step size; ntime: number of time steps\")\n",
    "        print(\"theta: theta value for theta method. 1 for fully implicit (recommanded value 0.55)\")\n",
    "        print(\"Also run as: python 2dflow.py default\")\n",
    "        print(\"The program will run the default problem shown in the write up\")"
   ]
  },
  {
   "cell_type": "code",
   "execution_count": 23,
   "metadata": {},
   "outputs": [
    {
     "name": "stdout",
     "output_type": "stream",
     "text": [
      "Traceback (most recent call last):\n",
      "  File \"2dflow.py\", line 1, in <module>\n",
      "    import grid\n",
      "  File \"/home/antares/ce-5362-webroot/99-Experimental/2DXZ-EFM-model/grid.py\", line 8, in <module>\n",
      "    import numpy as np\n",
      "ModuleNotFoundError: No module named 'numpy'\n"
     ]
    }
   ],
   "source": [
    "! python3 2dflow.py default"
   ]
  },
  {
   "cell_type": "code",
   "execution_count": null,
   "metadata": {},
   "outputs": [],
   "source": []
  }
 ],
 "metadata": {
  "kernelspec": {
   "display_name": "Python 3",
   "language": "python",
   "name": "python3"
  },
  "language_info": {
   "codemirror_mode": {
    "name": "ipython",
    "version": 3
   },
   "file_extension": ".py",
   "mimetype": "text/x-python",
   "name": "python",
   "nbconvert_exporter": "python",
   "pygments_lexer": "ipython3",
   "version": "3.8.5"
  }
 },
 "nbformat": 4,
 "nbformat_minor": 4
}
