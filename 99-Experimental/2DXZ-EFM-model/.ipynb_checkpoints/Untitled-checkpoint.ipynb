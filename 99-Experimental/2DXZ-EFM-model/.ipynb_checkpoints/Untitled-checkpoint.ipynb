{
 "cells": [
  {
   "cell_type": "code",
   "execution_count": null,
   "metadata": {},
   "outputs": [],
   "source": [
    "# python notebook for debug 2dflow code"
   ]
  },
  {
   "cell_type": "code",
   "execution_count": 2,
   "metadata": {},
   "outputs": [
    {
     "ename": "IndentationError",
     "evalue": "unindent does not match any outer indentation level (phys.py, line 22)",
     "output_type": "error",
     "traceback": [
      "Traceback \u001b[0;36m(most recent call last)\u001b[0m:\n",
      "  File \u001b[1;32m\"/opt/jupyterhub/lib/python3.8/site-packages/IPython/core/interactiveshell.py\"\u001b[0m, line \u001b[1;32m3418\u001b[0m, in \u001b[1;35mrun_code\u001b[0m\n    exec(code_obj, self.user_global_ns, self.user_ns)\n",
      "\u001b[0;36m  File \u001b[0;32m\"<ipython-input-2-b49f0c209a91>\"\u001b[0;36m, line \u001b[0;32m2\u001b[0;36m, in \u001b[0;35m<module>\u001b[0;36m\u001b[0m\n\u001b[0;31m    import phys\u001b[0m\n",
      "\u001b[0;36m  File \u001b[0;32m\"/home/antares/ce-5362-webroot/99-Experimental/2DXZ-EFM-model/phys.py\"\u001b[0;36m, line \u001b[0;32m22\u001b[0m\n\u001b[0;31m    ntout=int(0.05*ntime)\u001b[0m\n\u001b[0m                         ^\u001b[0m\n\u001b[0;31mIndentationError\u001b[0m\u001b[0;31m:\u001b[0m unindent does not match any outer indentation level\n"
     ]
    }
   ],
   "source": [
    "import grid\n",
    "import phys\n",
    "import initial\n",
    "import boundary\n",
    "import numpy as np\n",
    "import matplotlib.pyplot as plt\n",
    "import time\n",
    "import scalar as sc\n",
    "import sys\n",
    "\n",
    "if __name__ == \"__main__\":\n",
    "    try:\n",
    "        if sys.argv[1]=='default':\n",
    "            L=10000;\n",
    "            nc=100;\n",
    "            nk=10;\n",
    "            dt=1;\n",
    "            theta=0.55;\n",
    "            ntime=1350;\n",
    "        else:\n",
    "            L=sys.argv[1]\n",
    "            nc=sys.argv[2]\n",
    "            nk=sys.argv[3]\n",
    "            dt=sys.argv[4]\n",
    "            theta=sys.argv[6]\n",
    "            ntime=sys.argv[5]\n",
    "            xc,xe,d,zb,zt,Nk,dz=grid.GridGeneration(L,nc,nk)\n",
    "            h,u,w,s,cdb=phys.Solve(ntime,dt,nc,xc,xe,d,zb,zt,nk,Nk,dz,theta,1)\n",
    "    except (ValueError, IndexError):\n",
    "        print(\"Error in command line input\")\n",
    "        print(\"Run as: python 2dflow.py <L> <nc> <nk> <dt> <theta> <ntime>\")\n",
    "        print(\"L: channel length; nc: number of horizontal cells; nk: number of vertical layers\")\n",
    "        print(\"dt: time step size; ntime: number of time steps\")\n",
    "        print(\"theta: theta value for theta method. 1 for fully implicit (recommanded value 0.55)\")\n",
    "        print(\"Also run as: python 2dflow.py default\")\n",
    "        print(\"The program will run the default problem shown in the write up\")"
   ]
  },
  {
   "cell_type": "code",
   "execution_count": null,
   "metadata": {},
   "outputs": [],
   "source": []
  }
 ],
 "metadata": {
  "kernelspec": {
   "display_name": "Python 3",
   "language": "python",
   "name": "python3"
  },
  "language_info": {
   "codemirror_mode": {
    "name": "ipython",
    "version": 3
   },
   "file_extension": ".py",
   "mimetype": "text/x-python",
   "name": "python",
   "nbconvert_exporter": "python",
   "pygments_lexer": "ipython3",
   "version": "3.8.5"
  }
 },
 "nbformat": 4,
 "nbformat_minor": 4
}
