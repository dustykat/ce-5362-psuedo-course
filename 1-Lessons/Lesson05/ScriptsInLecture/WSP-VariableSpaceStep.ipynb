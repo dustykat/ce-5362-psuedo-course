{
 "cells": [
  {
   "cell_type": "markdown",
   "metadata": {},
   "source": [
    "# Steady Water Surface Profile Models\n",
    "\n",
    "## Steady Uniform Flow\n",
    "Uniform flow is defined as the situation where friction slope and channel slope are the same. In this kind of \n",
    "flow the profile grade line (channel bottom), the hydraulic grade line (water surface), and the energy grade line are all\n",
    "parallel:\n",
    "\n",
    "$$ S_f = \\frac{\\Delta h_L}{\\Delta x} = S_0 $$\n",
    "\n",
    "One can apply the Darcy-Weisbach head loss model (adapted for non-circular conduits, using correlations for the friction factor):\n",
    "\n",
    "$$h_L = f\\frac{L}{4R_h}\\frac{V^2}{2g}$$\n",
    "\n",
    "or more commonly the Chezy-Manning head loss model:\n",
    "\n",
    "$$h_L = L (\\frac{n V}{1.0 \\times R_h^{2/3}})^2$$\n",
    "\n",
    "## Gradually Varied Steady Flow"
   ]
  },
  {
   "cell_type": "markdown",
   "metadata": {},
   "source": [
    "## Fixed Depth Change, Variable Spatial Step\n",
    "The fixed-step refers to specified changes in depth for which we solve to find the variable spatial steps. The method is a very simple method for computing water surface profiles in prismatic channels. A prismatic channel is a channel of uniform cross sectional geometry with constant bed (topographic) slope.\n",
    "\n",
    "In such channels with smooth (non-jump) steady flow the continunity and momentum equations are: \n",
    "\n",
    "$$Q = AV $$\n",
    "\n",
    "where where $Q$ is volumetric discharge, $A$ is cross sectional flow area, and $V$ is the mean section velocity; and: \n",
    "\n",
    "$$\\frac{V}{g} \\frac{dV}{dx}+\\frac{dh}{dx} = S_o - S_f$$ \n",
    "\n",
    "where $h$ is the flow depth (above the bottom), and $x$ is horizontal the distance along the channel.\n",
    "\n",
    "For the variable step method, the momentum equation is rewritten as a difference equation (after application of calculus to gather terms) then rearranged to solve for the spatial step dimension .\n",
    "\n",
    "$$ \\frac{\\frac{V^2_{i+1}}{2g}-\\frac{V^2_{i}}{2g}}{\\Delta x} + \\frac{h_{i+1}-h_{i}}{\\Delta x} = S_o - \\bar{S_f} $$\n",
    "\n",
    "where $S_f$ is the average slope of the energy grade line between two sections (along a\n",
    "reach of length $\\Delta x$, the unknown value). Rearrangement to isolate $\\Delta x$ produces an explicit update equation that can be evaluated to find the different values of $\\Delta x$ associated with different flow depths. The\n",
    "plot of the accumulated spatial changes versus the sum of the flow depth and bottom elevation is the water surface profile.\n",
    "\n",
    "$$\\frac{(h_{i+1} + \\frac{V^2_{i+1}}{2g})  -  (h_{i} +\\frac{V^2_{i}}{2g}) }{S_o - \\bar{S_f} } = \\Delta x $$\n",
    "\n",
    "The distance between two sections with known discharges is computed using the\n",
    "equation, all the terms on the left hand side are known values. The mean energy\n",
    "gradient ($\\bar{S_f}$ ) is computed from the mean of the velocity, depth, area, and hydraulic\n",
    "radius for the two sections.\n",
    "\n",
    "The friction slope can be computed using Manning's, Chezy, or the Darcy-Weisbach friction equations adapted for non-circular, free-surface conduits.\n",
    "\n",
    "The equation here is written moving upstream, direction matters for indexing. Thus position $i+1$\n",
    "is assumed upstream of position $i$ in this notebook. Such directional convention is unusual in\n",
    "numerical methods and analysts need to use care when developing their own tools or using other\n",
    "tools. A clever analyst need not rewrite code, but simple interchange of upstream and downstream\n",
    "depths can handle both backwater and front-water curves."
   ]
  },
  {
   "cell_type": "markdown",
   "metadata": {},
   "source": [
    "## Scripting an Algorithm\n",
    "\n",
    "Here the method is illustrated in  to illustrate the tool as a programming environment.\n",
    "First we build a set of utility functions, these will be used later in the `backwater`\n",
    "function\n",
    "\n",
    "The listings below are utility functions for rectangular channels for flow area given channel\n",
    "depth and width and wetted perimeter given depth and width. Different geometries will need different functions (probably by numerical methods rather than actual functional relationships).\n",
    "\n",
    "\n",
    "The first listing is a depth-area function for rectangular geometry."
   ]
  },
  {
   "cell_type": "code",
   "execution_count": 177,
   "metadata": {},
   "outputs": [],
   "source": [
    "# Depth-Area function for rectangular channel\n",
    "def area(depth,width):\n",
    "    area=depth*width;\n",
    "    return(area)"
   ]
  },
  {
   "cell_type": "markdown",
   "metadata": {},
   "source": [
    "The next listing is a depth wetted-perimeter function for a rectangular geometry."
   ]
  },
  {
   "cell_type": "code",
   "execution_count": 177,
   "metadata": {},
   "outputs": [],
   "source": [
    "# Depth-Wetted perimeter function for rectangular channel\n",
    "def perimeter(depth,width):\n",
    "    perimeter=2*depth+width;\n",
    "    return(perimeter)"
   ]
  },
  {
   "cell_type": "markdown",
   "metadata": {},
   "source": [
    "Listing below is a listing of the code for the hydraulic radius (ratio of the above results),\n",
    "this is a generic function, it does not need to know the flow geometry"
   ]
  },
  {
   "cell_type": "code",
   "execution_count": 177,
   "metadata": {},
   "outputs": [],
   "source": [
    "# Hydraulic radius function\n",
    "def radius(area,perimeter):\n",
    "    radius=area/perimeter;\n",
    "    return(radius)"
   ]
  },
  {
   "cell_type": "markdown",
   "metadata": {},
   "source": [
    "The next section is a listing of code for the friction slope given Manning's n, discharge,\n",
    "hydraulic radius, and flow area. This function implicitly assumes SI units\n",
    "(the 1.49 constant in U.S. Customary units is not present). For U.S. Customary units\n",
    "either add the constant or convert the US units into equivalent SI units."
   ]
  },
  {
   "cell_type": "code",
   "execution_count": 177,
   "metadata": {},
   "outputs": [],
   "source": [
    "# Friction slope function\n",
    "def slope_f(discharge,mannings_n,area,radius):\n",
    "    slope_f=(discharge**2)*(mannings_n**2)/( (radius**(4./3))*(area**2) ); #compute friction slope\n",
    "    return(slope_f)"
   ]
  },
  {
   "cell_type": "code",
   "execution_count": 177,
   "metadata": {},
   "outputs": [],
   "source": []
  },
  {
   "cell_type": "code",
   "execution_count": 177,
   "metadata": {},
   "outputs": [],
   "source": [
    "# 2-point average\n",
    "def avg2point(x1,x2):\n",
    "    avg2point=0.5*(x1+x2);\n",
    "    return(avg2point)"
   ]
  },
  {
   "cell_type": "markdown",
   "metadata": {},
   "source": [
    "The semi-colons in the functions are probably unnecessary, but have value because it\n",
    "forces the expression to its left to be evaluated and helps prevent ambiguous code.\n",
    "Also notice the use of indention as a scope delimiter, the delimiter is required. "
   ]
  },
  {
   "cell_type": "markdown",
   "metadata": {},
   "source": [
    "## Describe the actual BW computes\n",
    "\n",
    "At this point, we have 5 useful, testable functions (and we should test before\n",
    "the next step.\n",
    "\n",
    "The next listing is the step-backwater method implemented as a function. This function\n",
    "computes the space steps, changes in depth, etc. as per the algorithm. The function illustrates count\n",
    "controlled repetition (for loops), list indexing, and use of the utility functions to\n",
    "make the code readable as well as ensure that the parts work before the whole program\n",
    "is assembled. This concept is really crucial, if you can build a tool of parts that are\n",
    "known to work, it helps keep logic errors contained to known locations."
   ]
  },
  {
   "cell_type": "code",
   "execution_count": 252,
   "metadata": {},
   "outputs": [],
   "source": [
    "# Backwater curve function\n",
    "def backwater(begin_depth,end_depth,how_many,discharge,width,mannings_n,slope):\n",
    "#\n",
    "## Example function call\n",
    "##  zz<-backwater(begin_depth=8,end_depth=5,how_many=30,discharge=55.4,width=5,mannings_n=0.02,slope=0.001)\n",
    "## Numerical values are values used in essay, they correspond to a particuar example from Koutitas 1983\n",
    "#\n",
    "# Other functions must exist otherwise will spawn errors\n",
    "#\n",
    "# Prepare space for vectors\n",
    "    twog=2.0*9.8\n",
    "    depth=[]  # numeric vector for depths\n",
    "    velocity=[]  # numeric vector for velocities\n",
    "    deltax=[] # numeric vector for spatial steps\n",
    "    distance=[] # space for computing cumulative distances\n",
    "    bse=[] # numeric vector for bottom elevations\n",
    "    wse=[] # numeric vector for water surface elevations\n",
    "    delta_depth=(begin_depth-end_depth)/(how_many)  # change in depth for finding spatial steps\n",
    "    #print(delta_depth)\n",
    "    depth.append(begin_depth) # assign downstream value\n",
    "    for i in range(1,how_many):\n",
    "        depth.append(depth[0] - (i+1)*delta_depth) # uniform depths\n",
    "    for i in range(0,how_many):\n",
    "        velocity.append(discharge/area(depth[i],width))\n",
    "    for i in range(0,how_many-1):\n",
    "        depth_bar=avg2point(depth[i+1],depth[i]); #compute average depth in reach\n",
    "        area_bar=area(depth_bar,width); #compute average area in reach\n",
    "        perimeter_bar=perimeter(depth_bar,width); #compute average wetted perimeter\n",
    "        radius_bar=radius(area_bar,perimeter_bar); #compute average hydraulic radius\n",
    "        friction=slope_f(discharge,mannings_n,area_bar,radius_bar) #compute friction slope\n",
    "        snrgup =(depth[i+1]+((velocity[i+1]**2)/twog))\n",
    "        snrgdn =(depth[i] + ((velocity[i]**2)/twog))\n",
    "        step =(snrgup - snrgdn)/(slope-friction) # compute change in distance for each change in depth\n",
    "        deltax.append(step)\n",
    "    distance.append(0.0)\n",
    "    bse.append(0.0)\n",
    "    for i in range(1,how_many):\n",
    "        distance.append(distance[i-1]+deltax[i-1]); # spatial distances\n",
    "        bse.append(bse[i-1]-deltax[i-1]*slope); # bottom elevations\n",
    "    for i in range(0,how_many):\n",
    "        wse.append(bse[i]+depth[i]) # water surface elevations\n",
    "    return(distance,wse,bse,depth,deltax,velocity)"
   ]
  },
  {
   "cell_type": "markdown",
   "metadata": {},
   "source": [
    "### Function call with plotting"
   ]
  },
  {
   "cell_type": "code",
   "execution_count": 263,
   "metadata": {},
   "outputs": [
    {
     "data": {
      "image/png": "[encoded data removed]",
      "text/plain": [
       "<Figure size 1152x576 with 1 Axes>"
      ]
     },
     "metadata": {
      "needs_background": "light"
     },
     "output_type": "display_data"
    }
   ],
   "source": [
    "# call the function - output is a tuple, use this fact in the plotting build\n",
    "output = backwater(begin_depth=8.0,end_depth=5.0,how_many=31,discharge=55.4,width=5.0,mannings_n=0.02,slope=0.001)\n",
    "# Now plot the water surface profile\n",
    "import matplotlib.pyplot\n",
    "myfigure = matplotlib.pyplot.figure(figsize = (16,8)) # generate a object from the figure class, set aspect ratio\n",
    "# Built the plot\n",
    "matplotlib.pyplot.plot(output[0], output[2],  color ='brown', linewidth=3)\n",
    "matplotlib.pyplot.plot(output[0], output[1],  color ='blue', linewidth=5)\n",
    "matplotlib.pyplot.ylabel(\"Elevation (meters)\")\n",
    "matplotlib.pyplot.xlabel(\"Distance (meters)\")\n",
    "mytitle = \"Water Surface Profile - Variable Spatial Step Method\"\n",
    "matplotlib.pyplot.title(mytitle)\n",
    "matplotlib.pyplot.show()"
   ]
  },
  {
   "cell_type": "code",
   "execution_count": 262,
   "metadata": {},
   "outputs": [],
   "source": []
  },
  {
   "cell_type": "markdown",
   "metadata": {},
   "source": [
    "### Example 1\n",
    "\n",
    "### Example 2"
   ]
  },
  {
   "cell_type": "code",
   "execution_count": null,
   "metadata": {},
   "outputs": [],
   "source": []
  },
  {
   "cell_type": "markdown",
   "metadata": {},
   "source": [
    "## Exercise"
   ]
  },
  {
   "cell_type": "markdown",
   "metadata": {},
   "source": [
    "1. Convert to US Customary Units\n",
    "2. "
   ]
  },
  {
   "cell_type": "markdown",
   "metadata": {},
   "source": [
    "## References\n",
    "\n",
    "Sturm T.W (2001). Open Channel Hydraulics, 1ed.. McGraw-Hill, New York.\n",
    "\n",
    "Cunge, J.A., Holly, F.M., Verwey, A. (1980). Practical Aspects of Computational\n",
    "River Hydraulics. Pittman Publishing Inc. , Boston, MA. pp. 7-50\n"
   ]
  },
  {
   "cell_type": "code",
   "execution_count": null,
   "metadata": {},
   "outputs": [],
   "source": []
  }
 ],
 "metadata": {
  "kernelspec": {
   "display_name": "Python 3",
   "language": "python",
   "name": "python3"
  },
  "language_info": {
   "codemirror_mode": {
    "name": "ipython",
    "version": 3
   },
   "file_extension": ".py",
   "mimetype": "text/x-python",
   "name": "python",
   "nbconvert_exporter": "python",
   "pygments_lexer": "ipython3",
   "version": "3.6.9"
  }
 },
 "nbformat": 4,
 "nbformat_minor": 4
}
