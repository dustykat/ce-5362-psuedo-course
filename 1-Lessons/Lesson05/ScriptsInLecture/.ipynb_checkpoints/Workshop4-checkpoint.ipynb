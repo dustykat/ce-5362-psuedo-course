{
 "cells": [
  {
   "cell_type": "code",
   "execution_count": 1,
   "metadata": {},
   "outputs": [],
   "source": [
    "# Uniform Flow Example"
   ]
  },
  {
   "cell_type": "code",
   "execution_count": 14,
   "metadata": {},
   "outputs": [],
   "source": [
    "# Hydraulic Functions\n",
    "# Depth-Area function for rectangular channel\n",
    "def area(depth,width):\n",
    "    area=depth*width;\n",
    "    return(area)"
   ]
  },
  {
   "cell_type": "code",
   "execution_count": 15,
   "metadata": {},
   "outputs": [],
   "source": [
    "# Depth-Wetted perimeter function for rectangular channel\n",
    "def perimeter(depth,width):\n",
    "    perimeter=2*depth+width;\n",
    "    return(perimeter)"
   ]
  },
  {
   "cell_type": "code",
   "execution_count": 16,
   "metadata": {},
   "outputs": [],
   "source": [
    "# Hydraulic radius function\n",
    "def radius(area,perimeter):\n",
    "    radius=area/perimeter;\n",
    "    return(radius)"
   ]
  },
  {
   "cell_type": "code",
   "execution_count": 17,
   "metadata": {},
   "outputs": [],
   "source": [
    "# Friction slope function\n",
    "def slope_f(discharge,mannings_n,area,radius):\n",
    "    slope_f=(discharge**2)*(mannings_n**2)/( (radius**(4./3))*(area**2) ); #compute friction slope\n",
    "    return(slope_f)"
   ]
  },
  {
   "cell_type": "code",
   "execution_count": 18,
   "metadata": {},
   "outputs": [],
   "source": [
    "# Manning's equation SI units\n",
    "def qnorm(mannings_n,area,radius,slope):\n",
    "    qnorm=(1.0/mannings_n)*area*(radius**(2./3.))*(slope**(1./2.))\n",
    "    return(qnorm)"
   ]
  },
  {
   "cell_type": "code",
   "execution_count": 19,
   "metadata": {},
   "outputs": [],
   "source": [
    "# Topographic slope function\n",
    "def slope0(xup,zup,xdown,zdown):\n",
    "    slope0=-1.0*(zdown-zup)/(xdown-xup)\n",
    "    return(slope0)"
   ]
  },
  {
   "cell_type": "code",
   "execution_count": 20,
   "metadata": {},
   "outputs": [],
   "source": []
  },
  {
   "cell_type": "code",
   "execution_count": 21,
   "metadata": {},
   "outputs": [
    {
     "name": "stdout",
     "output_type": "stream",
     "text": [
      "0.1\n"
     ]
    }
   ],
   "source": []
  },
  {
   "cell_type": "code",
   "execution_count": null,
   "metadata": {},
   "outputs": [],
   "source": []
  }
 ],
 "metadata": {
  "kernelspec": {
   "display_name": "Python 3",
   "language": "python",
   "name": "python3"
  },
  "language_info": {
   "codemirror_mode": {
    "name": "ipython",
    "version": 3
   },
   "file_extension": ".py",
   "mimetype": "text/x-python",
   "name": "python",
   "nbconvert_exporter": "python",
   "pygments_lexer": "ipython3",
   "version": "3.6.9"
  }
 },
 "nbformat": 4,
 "nbformat_minor": 4
}
