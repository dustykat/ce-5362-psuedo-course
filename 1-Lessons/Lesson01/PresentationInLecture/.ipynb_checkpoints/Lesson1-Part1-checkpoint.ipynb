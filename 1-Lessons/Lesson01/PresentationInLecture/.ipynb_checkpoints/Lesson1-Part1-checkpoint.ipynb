{
 "cells": [
  {
   "cell_type": "code",
   "execution_count": 1,
   "metadata": {},
   "outputs": [
    {
     "name": "stdout",
     "output_type": "stream",
     "text": [
      "Thu Dec 17 20:29:23 UTC 2020\n"
     ]
    }
   ],
   "source": [
    "! date"
   ]
  },
  {
   "cell_type": "code",
   "execution_count": 2,
   "metadata": {
    "collapsed": true,
    "jupyter": {
     "outputs_hidden": true,
     "source_hidden": true
    }
   },
   "outputs": [
    {
     "name": "stdout",
     "output_type": "stream",
     "text": [
      "atomickitty\n",
      "antares\n",
      "/opt/jupyterhub/bin/python3\n",
      "3.8.5 (default, Jul 28 2020, 12:59:40) \n",
      "[GCC 9.3.0]\n",
      "sys.version_info(major=3, minor=8, micro=5, releaselevel='final', serial=0)\n"
     ]
    }
   ],
   "source": [
    "# Script block to identify host, user, and kernel\n",
    "import sys\n",
    "! hostname\n",
    "! whoami\n",
    "print(sys.executable)\n",
    "print(sys.version)\n",
    "print(sys.version_info)\n",
    "# Script block to left align Markdown Tables"
   ]
  },
  {
   "cell_type": "code",
   "execution_count": 3,
   "metadata": {
    "jupyter": {
     "source_hidden": true
    }
   },
   "outputs": [
    {
     "data": {
      "text/html": [
       "<style>\n",
       "  table {margin-left: 0 !important;}\n",
       "</style>\n"
      ],
      "text/plain": [
       "<IPython.core.display.HTML object>"
      ]
     },
     "metadata": {},
     "output_type": "display_data"
    }
   ],
   "source": [
    "%%html\n",
    "<style>\n",
    "  table {margin-left: 0 !important;}\n",
    "</style>"
   ]
  },
  {
   "cell_type": "markdown",
   "metadata": {},
   "source": [
    "# CE 5362 Surface Water Modeling\n",
    "## Lesson 1: Introduction"
   ]
  },
  {
   "cell_type": "markdown",
   "metadata": {},
   "source": [
    "### Description: \n",
    "The course prepares engineers to practice hydrologic and hydraulic modeling in one-dimensional <strong>unsteady</strong> conditions; and in higher spatial dimensions (2D/3D) using custom-written and professional software tools. Integration of simulation tools to examine complex systems is emphasized.\n",
    "\n",
    "### Syllabus:\n",
    "\n",
    "The syllabus is located at https://atomickitty.ddns.net/antares/0-Syllabus/ce-5362-swmodeling-2021-1.html"
   ]
  },
  {
   "cell_type": "markdown",
   "metadata": {},
   "source": [
    "### Content Server(s):\n",
    "* The primary course content server is \n",
    "\n",
    "* The development course content server (used as a backup) is \n",
    "\n",
    "### Learning Management System (LMS)\n",
    "* Blackboard https://ttu.blackboard.com/webapps/login\n",
    "\n",
    "### Software\n",
    "1. JupyterLab as implemented in Anaconda for custom-written programs\n",
    "    1. You can run these on your laptops, or on an AWS Lightsail Instance as you prefer.  \n",
    "    2. The instructor runs his examples on either an AWS Lightsail Instance or on a Raspberry Pi (albeit its a bit slow)\n",
    "    \n",
    "2. SWMM \n",
    "\n",
    "3. EFDC or SToRM (to be determined as course progresses)\n"
   ]
  },
  {
   "cell_type": "markdown",
   "metadata": {},
   "source": [
    "## Textbook(s): \n",
    "Excerpts of useful materials on server; "
   ]
  },
  {
   "cell_type": "markdown",
   "metadata": {},
   "source": [
    "## Course Contents: \n",
    "* topic\n",
    "* topic:\n",
    "    1. subtopic\n",
    "    2. subtopic\n",
    "    3. subtopic\n",
    "* topic:\n",
    "\t1. subtopic: \n",
    "        1. subtopic, \n",
    "        2. subtopic, \n",
    "        3. subtopic.\n",
    "\t2. subtopic: \n",
    "        1. subtopic,\n",
    "        2. subtopic.\n",
    "\t3. subtopic: \n",
    "        1. subtopic, \n",
    "        2. subtopic, \n",
    "        3. subtopic."
   ]
  },
  {
   "cell_type": "markdown",
   "metadata": {},
   "source": [
    "## Learning Outcomes: \n",
    "On completion of the course, students will be able to:\n",
    "1. Articulate relevant theory for 1D dynamic wave routing.\n",
    "2. Develop a Lax-Diffusion model for time-varying flow in an open channel and compare results with professional tools (HEC-RAS, SWMM, ...).\n",
    "3. Simulate the confluence of two streams in steady and unsteady conditions using professional tools (HEC-RAS, SWMM, ...).\n",
    "4. Articulate relevant theory for 2D estuary/floodplain modeling\n",
    "5. Develop a quasi-2D models to approximate 2D estuary/foodplain\n",
    "6. Simulate selected 2-D examples using professional tools (EFDC, SToRM, ... )\n",
    "7. Articulate relevant theory for alternative modeling approaches (Lattice-Boltzman Fluid Dynamics ...)"
   ]
  },
  {
   "cell_type": "markdown",
   "metadata": {},
   "source": [
    "## ABET Student Outcomes\n",
    "* Engineering:\n",
    "    1. An ability to identify, formulate, and solve complex engineering problems by applying principles of engineering, science, and mathematics.\n",
    "    2. An ability to acquire and apply new knowledge as needed, using appropriate learning strategies. "
   ]
  },
  {
   "cell_type": "markdown",
   "metadata": {},
   "source": [
    "## Resources/Tools\n",
    "### Amazon Web Services\n",
    "1. Lightsail (Virtual Private Server) Instances: Low cost (~24 USD/month or less) compute servers for running models on a remote AWS maintained machine. This is what the instructor will use for <strong>Jupyter notebooks, and the various professional tools.</strong>\n",
    "\n",
    "### Additional Platforms for Python \n",
    "\n",
    "1. Anaconda platform (https://www.anaconda.com/): Anaconda distribution is an open-source Data Science Distribution Development Platform.  It includes Python 3 with over 1,500 data science packages making it easy to manage libraries and dependencies.  Available in Linux (x86-64 only), Windows, and Mac OS X.  \n",
    "\n",
    "2. Jupyter (https://jupyter.org/): JupyterLab is a web-based interactive development environment for Jupyter notebooks, code, and data. JupyterLab is flexible: Configure and arrange the user interface to support a wide range of workflows in data science, scientific computing, and machine learning. `note` Anaconda for MacOS includes a JupyterLab instance, so a separate install is not required.\n",
    "\n",
    "#### Additional Modules\n",
    "3. Math module (https://docs.python.org/3/library/math.html): Gives access to the mathematical functions defined by the C standard e.g. factorial, gcd, exponential, logarithm. \n",
    "4. Operator module (https://docs.python.org/3/library/operator.html): Helps in exporting a set of efficient functions corresponding to the intrinsic operators of Python.  For example, the operator add(x,y) is equivalent to the expression x+y.\n",
    "5. Scipy module (https://www.scipy.org/): A Python-based ecosystem of open-source software for mathematics, science, and engineering. Some of the core packages are:\n",
    "    * Numpy: Provides n-dimensional array package\n",
    "    * Scipy: Fundamental for scientific computing (e.g. linear algorithm, optimization)\n",
    "    * Matplotlib: Visualizations/2D plotting\n",
    "    * IPython: Enhanced interactive console <<= this is the kernel used in JupyterLab\n",
    "    * Pandas: Data structures and data analysis\n",
    "6. Scikit-learn module (https://scikit-learn.org/stable/): A library for machine learning in Python. It is a simple and efficient tool for predictive data analysis.  It is built on NumPy, SciPy, and matplotlib modules.\n",
    "\n",
    "In fact this syllabus was created using a JupyterLab notebook (as a markdown processor). "
   ]
  },
  {
   "cell_type": "markdown",
   "metadata": {},
   "source": [
    "## Course Schedule \n",
    "\n",
    "| Item | Lesson | Workshop/Exercises |\n",
    "|:-----|:---|:---|\n",
    "||<strong>placeholder</strong>||\n",
    "|21 Jan 2021|1 Introduction to ...: <br> - subtopic1 <br> - subtopic2 <br> - subtopic3 | Computing Environment set up: <br> - Installing Anaconda (Win/MacOS/AWS) <br> – Jupyter notebooks <br> - Simple Examples |\n",
    "|26Jan2021|2 Modeling Philosophy: <br> - subtopic1 <br> - subtopic2 <br> - subtopic3 | laboratory <br> - subtopic1 <br> - subtopic2 <br> - subtopic3 |\n",
    "|28 Jan 2021|3 topic ...: <br> - subtopic1 <br> - subtopic2 <br> - subtopic3 | laboratory <br> - subtopic1 <br> - subtopic2 <br> - subtopic3 |\n",
    "|2 Feb 2021|4 topic ...: <br> - subtopic1 <br> - subtopic2 <br> - subtopic3 | laboratory <br> - subtopic1 <br> - subtopic2 <br> - subtopic3 |\n",
    "|4 Feb 2021|5 topic ...: <br> - subtopic1 <br> - subtopic2 <br> - subtopic3 | laboratory <br> - subtopic1 <br> - subtopic2 <br> - subtopic3 |\n",
    "|9 Feb 2021|6 topic ...: <br> - subtopic1 <br> - subtopic2 <br> - subtopic3 | laboratory <br> - subtopic1 <br> - subtopic2 <br> - subtopic3 |\n",
    "||<strong> placeholder </strong>||\n",
    "|11 Feb 2021|7 topic ...: <br> - subtopic1 <br> - subtopic2 <br> - subtopic3 | laboratory <br> - subtopic1 <br> - subtopic2 <br> - subtopic3 |\n",
    "|16 Feb 2021|8 topic ...: <br> - subtopic1 <br> - subtopic2 <br> - subtopic3 | laboratory <br> - subtopic1 <br> - subtopic2 <br> - subtopic3 |\n",
    "|18 Feb 2021|9 topic ...: <br> - subtopic1 <br> - subtopic2 <br> - subtopic3 | laboratory <br> - subtopic1 <br> - subtopic2 <br> - subtopic3 |\n",
    "|23 Feb 2021|10 topic ...: <br> - subtopic1 <br> - subtopic2 <br> - subtopic3 | laboratory <br> - subtopic1 <br> - subtopic2 <br> - subtopic3 |\n",
    "|25 Feb 2021|11 topic ...: <br> - subtopic1 <br> - subtopic2 <br> - subtopic3 | laboratory <br> - subtopic1 <br> - subtopic2 <br> - subtopic3 |\n",
    "||<strong> placeholder </strong>||\n",
    "|2 Mar 2021|12 topic ...: <br> - subtopic1 <br> - subtopic2 <br> - subtopic3 | laboratory <br> - subtopic1 <br> - subtopic2 <br> - subtopic3 |\n",
    "|4 Mar 2021|14 topic ...: <br> - subtopic1 <br> - subtopic2 <br> - subtopic3 | laboratory <br> - subtopic1 <br> - subtopic2 <br> - subtopic3 |\n",
    "|9 Mar 2021|15 topic ...: <br> - subtopic1 <br> - subtopic2 <br> - subtopic3 | laboratory <br> - subtopic1 <br> - subtopic2 <br> - subtopic3 |\n",
    "|11 Mar 2021|16 topic ...: <br> - subtopic1 <br> - subtopic2 <br> - subtopic3 | laboratory <br> - subtopic1 <br> - subtopic2 <br> - subtopic3 |\n",
    "|16 Mar 2021|17 topic ...: <br> - subtopic1 <br> - subtopic2 <br> - subtopic3 | laboratory <br> - subtopic1 <br> - subtopic2 <br> - subtopic3 |\n",
    "|18 Mar 2021|18 topic ...: <br> - subtopic1 <br> - subtopic2 <br> - subtopic3 | laboratory <br> - subtopic1 <br> - subtopic2 <br> - subtopic3 |\n",
    "|23 Mar 2021|19 topic ...: <br> - subtopic1 <br> - subtopic2 <br> - subtopic3 | laboratory <br> - subtopic1 <br> - subtopic2 <br> - subtopic3 |\n",
    "|25 Mar 2021|20 topic ...: <br> - subtopic1 <br> - subtopic2 <br> - subtopic3 | laboratory <br> - subtopic1 <br> - subtopic2 <br> - subtopic3 |\n",
    "|30 Mar 2021|21 topic ...: <br> - subtopic1 <br> - subtopic2 <br> - subtopic3 | laboratory <br> - subtopic1 <br> - subtopic2 <br> - subtopic3 |\n",
    "||<strong> placeholder </strong>||\n",
    "|1 Apr 2021|22 topic ...: <br> - subtopic1 <br> - subtopic2 <br> - subtopic3 | laboratory <br> - subtopic1 <br> - subtopic2 <br> - subtopic3 |\n",
    "|6 Apr 2021|23 topic ...: <br> - subtopic1 <br> - subtopic2 <br> - subtopic3 | laboratory <br> - subtopic1 <br> - subtopic2 <br> - subtopic3 |\n",
    "|8 Apr 2021|24 topic ...: <br> - subtopic1 <br> - subtopic2 <br> - subtopic3 | laboratory <br> - subtopic1 <br> - subtopic2 <br> - subtopic3 |\n",
    "|13 Apr 2021|25 topic ...: <br> - subtopic1 <br> - subtopic2 <br> - subtopic3 | laboratory <br> - subtopic1 <br> - subtopic2 <br> - subtopic3 |\n",
    "||<strong> placeholder </strong>||\n",
    "|15 Apr 2021|26 topic ...: <br> - subtopic1 <br> - subtopic2 <br> - subtopic3 | laboratory <br> - subtopic1 <br> - subtopic2 <br> - subtopic3 |\n",
    "|20 Apr 2021|27 topic ...: <br> - subtopic1 <br> - subtopic2 <br> - subtopic3 | laboratory <br> - subtopic1 <br> - subtopic2 <br> - subtopic3 |\n",
    "|22 Apr 2021|28 topic ...: <br> - subtopic1 <br> - subtopic2 <br> - subtopic3 | laboratory <br> - subtopic1 <br> - subtopic2 <br> - subtopic3 |\n",
    "|27 Apr 2021|29 topic ...: <br> - subtopic1 <br> - subtopic2 <br> - subtopic3 | laboratory <br> - subtopic1 <br> - subtopic2 <br> - subtopic3 |\n",
    "|29 Apr 2021|30 topic ...: <br> - subtopic1 <br> - subtopic2 <br> - subtopic3 | laboratory <br> - subtopic1 <br> - subtopic2 <br> - subtopic3 |\n",
    "|4 May 2021|31topic ...: <br> - subtopic1 <br> - subtopic2 <br> - subtopic3 | laboratory <br> - subtopic1 <br> - subtopic2 <br> - subtopic3 |\n",
    "|11 May 2021|<strong>Final Project Report and Link to Video</strong>||"
   ]
  },
  {
   "cell_type": "markdown",
   "metadata": {
    "jupyter": {
     "source_hidden": true
    }
   },
   "source": [
    "## Course Assessment and Grading Criteria:\n",
    "There will be two exams and one comprehensive final project for the course.  \n",
    "\n",
    "Grades will be based on the following components; weighting is approximate:\n",
    "\n",
    "|Assessment Instrument|Total points|Weight(%)|\n",
    "|---|---:|---:|\n",
    "|Exam-1|100|25|\n",
    "|Exam-2|100|25|\n",
    "|Workshop Notebooks/Homeworks|100|25|\n",
    "|Final Project|100|25|\n",
    "|Overall total|400|100|\n",
    "\n",
    "Letter grades will be assigned using the following proportions:\n",
    "\n",
    "|Normalized Score Range|Letter Grade|\n",
    "|:-|---:|\n",
    "|≥ 85|A|\n",
    "|75-84|B|\n",
    "|65-74|C|\n",
    "|55-64|D|\n",
    "|< 55|F|"
   ]
  },
  {
   "cell_type": "markdown",
   "metadata": {},
   "source": [
    "## Classroom Policy:\n",
    "The following activities are not allowed in the classroom: Texting or talking on the cellphone or other electronic devices, and reading non-course related materials.\n",
    "### Telepresence (On-line) Courses\n",
    "Obviously electronic devices are vital; disrupting the webinar is prohibited, please mute your microphone unless you have a question - consider typing your question into the chat window as well. \n"
   ]
  },
  {
   "cell_type": "markdown",
   "metadata": {
    "jupyter": {
     "source_hidden": true
    }
   },
   "source": [
    "## ADA Statement: \n",
    "Any student who, because of a disability, may require special arrangements in order to meet the course requirements should contact the instructor as soon as possible to make necessary arrangements.  Students must present appropriate verification from Student Disability Services during the instructor's office hours.  Please note that instructors are not allowed to provide classroom accommodation to a student until appropriate verification from Student Disability Services has been provided.  For additional information, please contact Student Disability Services \n",
    "office in 335 West Hall or call 806.742.2405.\n",
    "\n",
    "## Academic Integrity Statement:\n",
    "Academic integrity is taking responsibility for one’s own class and/or course work, being individually accountable, and demonstrating intellectual honesty and ethical behavior.  Academic integrity is a personal choice to abide by the standards of intellectual honesty and responsibility.  Because education is a shared effort to achieve learning through the exchange of ideas, students, faculty, and staff have the collective responsibility to build mutual trust and respect.  Ethical behavior and independent thought are essential for the highest level of academic achievement, which then must be measured.  Academic achievement includes scholarship, teaching, and learning, all of which are shared endeavors.  Grades are a device used to quantify the successful accumulation of knowledge through learning.  Adhering to the standards of academic integrity ensures grades are earned honestly.  Academic integrity is the foundation upon which students, faculty, and staff build their educational and professional careers.  [Texas Tech University (“University”) Quality Enhancement Plan, Academic Integrity Task Force, 2010].\n",
    "\n",
    "## Religious Holy Day Statement: \n",
    "“Religious holy day” means a holy day observed by a religion whose places of worship are exempt from property taxation under Texas Tax Code §11.20.  A student who intends to observe a religious holy day should make that intention known to the instructor prior to the absence.  A student who is absent from classes for the observance of a religious holy day shall be allowed to take an examination or complete an assignment scheduled for that day within a reasonable time after the absence.  A student who is excused may not be penalized for the absence; however, the instructor may respond appropriately if the student fails to complete the assignment satisfactorily.\n",
    "\n",
    "## Ethical Conduct Policy:\n",
    "Cheating is prohibited, and the representation of the work of another person as your own will be grounds for receiving a failing grade in the course.\n"
   ]
  },
  {
   "cell_type": "markdown",
   "metadata": {},
   "source": [
    "## Lesson 1: Workshop\n",
    "\n",
    "### Install a Remote Desktop Protocol Client\n",
    "You will likely use a Windows Server environment on your AWS instance.  You need a RDP client to connect to the server and get a GUI.\n",
    "If you have Windows RDP is built-in, if you are a Mac or Linux user you will need to obtain a useable client. \n",
    "\n",
    "The workshop will demonstrate using a Macintosh, then using a Raspberry Pi running Ubuntu Linux to demonstrate the procedure.\n",
    "\n",
    "### Build an AWS Lightsail Instance\n",
    "This \n",
    "\n",
    "### Install Anaconda\n",
    "\n",
    "### Install SWMM "
   ]
  },
  {
   "cell_type": "code",
   "execution_count": null,
   "metadata": {},
   "outputs": [],
   "source": []
  }
 ],
 "metadata": {
  "kernelspec": {
   "display_name": "Python 3",
   "language": "python",
   "name": "python3"
  },
  "language_info": {
   "codemirror_mode": {
    "name": "ipython",
    "version": 3
   },
   "file_extension": ".py",
   "mimetype": "text/x-python",
   "name": "python",
   "nbconvert_exporter": "python",
   "pygments_lexer": "ipython3",
   "version": "3.8.5"
  }
 },
 "nbformat": 4,
 "nbformat_minor": 4
}
