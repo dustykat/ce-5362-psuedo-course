{
 "cells": [
  {
   "cell_type": "code",
   "execution_count": 1,
   "metadata": {},
   "outputs": [
    {
     "name": "stdout",
     "output_type": "stream",
     "text": [
      "Mon Feb  1 15:09:04 UTC 2021\n"
     ]
    }
   ],
   "source": [
    "! date"
   ]
  },
  {
   "cell_type": "markdown",
   "metadata": {},
   "source": [
    "# CE 5362 Lesson 3 Hydraulics Review\n",
    "\n",
    "- Open Channel Hydraulics (A Review)\n",
    "    - Towards the St. Venant Equations\n",
    "    - Conceptualization (Real to Abstract)\n",
    "    - Mass Conservation"
   ]
  },
  {
   "cell_type": "markdown",
   "metadata": {},
   "source": [
    "## Towards the St. Venant Equations\n",
    "\n",
    "In general, 1-D unsteady flow would be considered state-of-practice computation; every engineer would be expected to be able to make such calculations (using professional software). 2-D computation is becoming routine using general purpose software. 3-D computation as of this writing (circa 2009) is still in the realm of state-of-art, and may not be within the capability a typical consulting firm.\n",
    "\n",
    "The conservation of mass, momentum, and energy in the context of the cell balance method is used herein to develop the mathematical and computational structure. The cell balance is a computational structure that is somewhat analogous to the Reynolds transport theorem, except the end results are difference equations that can be updates to approximate physical processes. \n",
    "\n",
    "The philosophy is a hybrid approach - instead of developing the differential equations first, then numerical approximations, the numerical constructs are built directly and the limiting process is employed to demonstrate that the constructs indeed mimic the differential equations that describe our current understanding of the physics."
   ]
  },
  {
   "cell_type": "markdown",
   "metadata": {},
   "source": [
    "### Conceptualization\n",
    "\n",
    "The cell balance method envisions the world as representable by a computational cell (or more typically a collection of cells) with some finite dimension, fixed in space about a cell centroid. Some dimensions are changeable - such as depth.\n",
    "\n",
    "The approach starts with an abstraction of a stream as depicted below in Figure 1.\n",
    "\n",
    "![](stream-schematic.png)\n",
    "\n",
    "|**Figure 1** Plan view of some river/stream|\n",
    "|---|\n",
    "\n",
    "The locational information along a streamflow axis (the dashed line) is connected to cross-sectional information relative to this axis (or some other meaningful axis) as depicted in Figure 2.\n",
    "\n",
    "![](stream-section-schematic.png)\n",
    "\n",
    "|**Figure 2** Locational/Cross Section Relationship|\n",
    "|---|\n",
    "\n",
    "Then the stream is divided into a collection of computational cells defined by location, cross section geometry and such as in Figure 3\n",
    "\n",
    "![](stream-discritize.png)\n",
    "\n",
    "|**Figure 3** Stream Discritization|\n",
    "|---|\n",
    "\n",
    "The notation is a bit variable.  A computational cell can be called a reach, although in HEC-RAS a reach is a portion of a stream that may contain many cells; depth is computed at the centroid or at either end (software dependent), suffice to say here that our reality (Figure 1) is conceptualized into an abstraction (Figure 3) and we work on the abstraction to ask questions (of the model).\n"
   ]
  },
  {
   "cell_type": "markdown",
   "metadata": {},
   "source": [
    "### The Computational Cell\n",
    "\n",
    "The fundamental computational element is a computational cell or a reach. Some professional software, in particular HEC-RAS, considers a reach to be a specific portion of a river system that may be comprised of several computational sub-reaches (cells). The engineer will need to consider the context and the tool used to decide which way to describe their problem to the program (and to the client).\n",
    "\n",
    "Figure 4 is a sketch of a portion of a channel. The left-most section is uphill (and upstream)\n",
    "of the right-most section. The section geometry is arbitrary, but is drawn to look like\n",
    "a channel cross section.\n",
    "\n",
    "![](reach_sketch.png)\n",
    "\n",
    "|**Figure 4 Reach/Computational Cell**|\n",
    "|---|\n",
    "\n",
    "\n",
    "The length of the cell (distance between each section along the flow path) is $\\Delta x$.\n",
    "The depth of liquid in the section is $z$, the width at the free surface is $B(z)$, the functional relationship established by the channel geometry. The flow into the reach\n",
    "on the upstream face is $Q -\\frac{\\partial Q}{\\partial x}\\frac{\\Delta x}{2}$ The flow out of the reach on the downstream face\n",
    "$Q +\\frac{\\partial Q}{\\partial x}\\frac{\\Delta x}{2}$. The direction is strictly a sign convention and the development does not require flow in a single direction. The topographic slope is $S_0$, assumed relatively constant in each reach, but can vary between reaches.\n",
    "\n",
    "The development of the unsteady flow equations herein uses several assumptions:\n",
    "1. The pressure distribution at any section is hydrostatic ; this assumption allows computation of pressure force as a function of depth.\n",
    "2. Wavelengths are long relative to flow depth; use the shallow wave theory.\n",
    "3. Channel slopes are small enough so that the topographic slope is roughly equal to the tangent of the angle formed by the channel bottom and the horizontal.\n",
    "4. The flow is one-dimensional ; this assumption implies that longitudinal dimension is large relative to cross sectional dimension. Generally river flows will meet this assumption, it fails in estuaries where the spatial dimensions (length and width) are roughly equal. Thus rivers that are hundreds of feet wide imply that reaches are miles long. If this assumption cannot be met, then 2-D methods are more appropriate.'\n",
    "5. Friction is modeled by Chezy-Manning type empirical models. The particular friction model does not really matter, but historically these equations have used the friction slope concept as computed from one of these empirical models.\n",
    "\n",
    "The tools that are used to build the equations are conservation of mass and linear\n",
    "momentum."
   ]
  },
  {
   "cell_type": "markdown",
   "metadata": {},
   "source": [
    "### Conservation of Mass\n",
    "\n",
    "The conservation of mass in the cell is the statement that mass entering and leaving\n",
    "the cell is balanced by the accumulation or lass of mass within the cell. For pedagog-\n",
    "ical clarity, this section goes through each part of a mass balance then assembles into\n",
    "a difference equation of interest.\n",
    "\n",
    "**Mass Entering**: Mass enters from the left of the cell in our sketch. This direction only establishes a direction convention and negative flux means the arrow points in the direction opposite of that in the sketch. In the notation of the sketch mass entering in a short time interval is:\n",
    "\n",
    "$$ \\dot M_{in} = \\rho \\cdot (Q -\\frac{\\partial Q}{\\partial x}\\frac{\\Delta x}{2}) \\cdot \\Delta t$$\n",
    "\n",
    "**Mass Exiting**: Mass leaves from the right of the cell in our sketch. In the notation\n",
    "of the sketch mass leaving is:\n",
    "\n",
    "$$ \\dot M_{in} = \\rho \\cdot (Q +\\frac{\\partial Q}{\\partial x}\\frac{\\Delta x}{2}) \\cdot \\Delta t$$\n",
    "\n",
    "**Mass Accumulating**: Mass accumulating within the reach is stored in the prism depicted in the sketch by the dashed lines. The product of density and prism volume is the mass added to (or removed from) storage.\n",
    "\n",
    "The rise in water surface in a short time interval is $\\frac{\\partial z}{\\partial t} \\cdot \\Delta t$ The plan view area of the prism is $B(z) \\cdot \\Delta x$. The product of these two terms is the mass added to storage, expressed as:\n",
    "\n",
    "$$ \\dot M_{storage} = \\rho \\cdot (\\frac{\\partial z}{\\partial t} \\cdot \\Delta t) \\cdot B(z) \\cdot \\Delta x$$\n",
    "\n",
    "Equating the accumulation to the net inflow produces\n",
    "\n",
    "$$\\rho \\cdot (\\frac{\\partial z}{\\partial t} \\cdot \\Delta t) \\cdot B(z) \\cdot \\Delta x = \\rho \\cdot (Q -\\frac{\\partial Q}{\\partial x}\\frac{\\Delta x}{2}) \\cdot \\Delta t - \\rho \\cdot (Q +\\frac{\\partial Q}{\\partial x}\\frac{\\Delta x}{2}) \\cdot \\Delta t$$\n",
    "\n",
    "This is the mass balance equation for the reach. If the flow is isothermal, and essentially incompressible then the density is a constant and can be removed from both sides of the equation. \n",
    "\n",
    "$$(\\frac{\\partial z}{\\partial t} \\cdot \\Delta t) \\cdot B(z) \\cdot \\Delta x =   (Q -\\frac{\\partial Q}{\\partial x}\\frac{\\Delta x}{2}) \\cdot \\Delta t -  (Q +\\frac{\\partial Q}{\\partial x}\\frac{\\Delta x}{2}) \\cdot \\Delta t$$\n",
    "\n",
    "Remove the $+Q$ and $-Q$ and simplify the right hand side\n",
    "\n",
    "$$(\\frac{\\partial z}{\\partial t} \\cdot \\Delta t) \\cdot B(z) \\cdot \\Delta x =  - (\\frac{\\partial Q}{\\partial x}\\frac{\\Delta x}{2}) \\cdot \\Delta t -  (\\frac{\\partial Q}{\\partial x}\\frac{\\Delta x}{2}) \\cdot \\Delta t = - \\frac{\\partial Q}{\\partial x} \\cdot {\\Delta x} \\cdot \\Delta t$$\n",
    "\n",
    "Dividing both sides by $\\Delta x \\cdot \\Delta t$ yields\n",
    "\n",
    "$$(\\frac{\\partial z}{\\partial t} ) \\cdot B(z)  =  - \\frac{\\partial Q}{\\partial x}  $$\n",
    "\n",
    "This equation is the conventional representation of the conservation of mass in 1-D\n",
    "open channel flow. If the equation includes lateral inflow the equation is adjusted to\n",
    "include this additional mass term. The usual lateral in flow is treated as a discharge\n",
    "per unit length added into the mass balance as expressed as:\n",
    "\n",
    "$$(\\frac{\\partial z}{\\partial t} ) \\cdot B(z) + \\frac{\\partial Q}{\\partial x}  = q$$\n",
    "\n",
    "This last equation is one of the two equations that comprise the St. Venant equations.\n",
    "The other equation is developed from the conservation of linear momentum."
   ]
  },
  {
   "cell_type": "markdown",
   "metadata": {},
   "source": [
    "## References\n",
    "\n",
    "Koutitas, C. G. 1983. Elements of Computational Hydraulics. ISBN 0-412-00361-9. Pentech Press Ltd. London. (Chapter 4) http://54.243.252.9/ce-5362-psuedo-course/3-Readings/PracticalComputationalHydraulics-Kousitas/ElementsOfComputationalHydraulics.pdf\n",
    "\n",
    "Roberson, J. A., Cassidy, J.J., and Chaudry, M. H., (1988) Hydraulic Engineering, Houghton Mifflin Co (Chapter 10) http://54.243.252.9/ce-5362-psuedo-course/3-Readings/HydraulicEngineering/\n",
    "\n",
    "Sturm T.W (2001) Open Channel Hydraulics, 1ed., McGraw-Hill, New York. Note: This PDF is from an international edition published in Singapore. http://54.243.252.9/ce-5362-psuedo-course/3-Readings/OpenChannelHYdraulics/"
   ]
  },
  {
   "cell_type": "code",
   "execution_count": null,
   "metadata": {},
   "outputs": [],
   "source": []
  }
 ],
 "metadata": {
  "kernelspec": {
   "display_name": "Python 3",
   "language": "python",
   "name": "python3"
  },
  "language_info": {
   "codemirror_mode": {
    "name": "ipython",
    "version": 3
   },
   "file_extension": ".py",
   "mimetype": "text/x-python",
   "name": "python",
   "nbconvert_exporter": "python",
   "pygments_lexer": "ipython3",
   "version": "3.6.9"
  }
 },
 "nbformat": 4,
 "nbformat_minor": 4
}
