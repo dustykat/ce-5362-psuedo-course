{
 "cells": [
  {
   "cell_type": "markdown",
   "metadata": {},
   "source": [
    "lesson 8 lax-scheme workshop"
   ]
  },
  {
   "cell_type": "markdown",
   "metadata": {},
   "source": [
    "## Example/Problem Statement\n",
    "\n",
    "The backwater curve situation for a rectangular channel with discharge over a weir is repeated.  The channel width is 5 meters, bottom slope $0.001$, Manning's $n=0.02$ and discharge $Q=55.4 \\frac{m^3}{sec}$.\n",
    "\n",
    "We will build a transient solver, although this problem is a steady flow case that we can check with an independent tool (Hamming's approach a few lessons ago).  We will start with the flow depth artificially large and observe the transient solver evolve eventually produce an equilibrium solution that should be the same as the steady-flow solver.  \n",
    "\n",
    "Generally such a simulation is a good idea to test a new algorithm -- it should be stable enough to converge to and maintain a steady solution.\n",
    "\n",
    "Why we would consider a transient solver is to examine cases such as that depicted in Figure 1\n",
    "\n",
    "![](tidal-bore-14[8].jpg)\n",
    "\n",
    "|Figure 1. Image of a tidal bore propagating upstream|\n",
    "|:---|\n",
    "\n",
    "\n",
    "\n",
    "The remainder of this notebook will develop a script that implements these concepts.\n",
    "\n",
    "\n"
   ]
  },
  {
   "cell_type": "markdown",
   "metadata": {},
   "source": [
    "## Building a Tool\n",
    "\n",
    "The script is comprised of several parts, and eventually for the sake of taking advantage of the ability to read and operate on files, the script will have several \"libraries\" that are read by a main control program.  \n",
    "\n",
    "The main program controls the overall solution process, while the library functions can be built and tested in advance.  What follows is a port from an old FORTRAN and later R program that is specific to this problem, we will get it working first, then generalize for reuse.\n",
    "\n"
   ]
  },
  {
   "cell_type": "code",
   "execution_count": 37,
   "metadata": {},
   "outputs": [],
   "source": [
    "import math"
   ]
  },
  {
   "cell_type": "code",
   "execution_count": 38,
   "metadata": {},
   "outputs": [],
   "source": [
    "# hydraulic functions \n",
    "# depth == flow depth          \n",
    "# bottom == bottom width of trapezoidal channel\n",
    "# side == side slope (same value both sides) of trapezoidal channel\n",
    "# computed values:\n",
    "# bt == computed topwidth :: ar == flow area, used in fd update :: wp == wetted perimeter, used in fd update\n",
    "\n",
    "def bt(depth,bottom,side):   # depth-topwidth function\n",
    "    topwidth = (bottom + 2.0*side*depth);\n",
    "    return(topwidth);\n",
    "\n",
    "def ar(depth,bottom,side):  # depth area function\n",
    "    area = (depth*(bottom+side*depth));\n",
    "    return(area)\n",
    "\n",
    "def wp(depth,bottom,side):   # depth perimeter\n",
    "    import math\n",
    "    perimeter = (bottom+2.0*depth*math.sqrt(1.0+side*side));\n",
    "    return(perimeter)"
   ]
  },
  {
   "cell_type": "code",
   "execution_count": 39,
   "metadata": {},
   "outputs": [],
   "source": [
    "###### Problem Constants #######\n",
    "# these are constants that define the problem\n",
    "# change for different problems\n",
    "# a good habit is to assign constants to names so the\n",
    "# program is readable by people in a few years\n",
    "g = 9.81 # gravitational acceleration, obviously SI units\n",
    "n = 10 # number of reaches\n",
    "q0 = 55.4 # initial discharge\n",
    "yd = 8.000 # initial flow depth in the model\n",
    "yu = 5.000 # upstream constant depth\n",
    "mn = 0.020 # Manning's n\n",
    "b0 = 5 # bottom width\n",
    "s0 = 0.001 # longitudinal slope (along direction of flow)\n",
    "s  = 0.0 # side slope (passed to calls to hydraulic variables)\n",
    "l  = 11380.0 # total length (the lenght of computational domain)\n",
    "tmax = 86 # total simulation time in seconds\n",
    "iprt =  4 # print every iprt time steps\n",
    "nn = n+1 # how many nodes, will jack with boundaries later\n",
    "mn2 = mn*mn # Manning's n squared, will appear a lot.\n",
    "a = ar(yd,b0,s) # flow area at beginning of time\n",
    "v0 = q0/a # initial velocity"
   ]
  },
  {
   "cell_type": "code",
   "execution_count": 69,
   "metadata": {},
   "outputs": [],
   "source": [
    "######## Here we build storage vectors ###############\n",
    "y = [0]*nn # create nn elements of vector y, all zero\n",
    "yp = [0]*nn # updates go in this vector, same length as y\n",
    "v = [0]*nn # create nn elements of vector v\n",
    "vp = [0]*nn # updates go in this vector, same length and v\n",
    "b = [0]*nn\n",
    "ytmp = [0]*nn\n",
    "vtmp = [0]*nn\n",
    "y = [yd for i in y] # populate y with nn things, each thing has value yd\n",
    "v = [v0 for i in y] # populate v with nn things, each thing has value v0"
   ]
  },
  {
   "cell_type": "code",
   "execution_count": 70,
   "metadata": {},
   "outputs": [
    {
     "data": {
      "text/plain": [
       "[8.0, 8.0, 8.0, 8.0, 8.0, 8.0, 8.0, 8.0, 8.0, 8.0, 8.0]"
      ]
     },
     "execution_count": 70,
     "metadata": {},
     "output_type": "execute_result"
    }
   ],
   "source": [
    "y"
   ]
  },
  {
   "cell_type": "code",
   "execution_count": 71,
   "metadata": {},
   "outputs": [
    {
     "data": {
      "text/plain": [
       "1138.0"
      ]
     },
     "execution_count": 71,
     "metadata": {},
     "output_type": "execute_result"
    }
   ],
   "source": [
    "b = bt(y[0],b0,s) # topwidth at downstream end\n",
    "c = math.sqrt(g*a/b) # celerity at initial conditions\n",
    "dx = l/n # delta x, length of a reach\n",
    "#dx"
   ]
  },
  {
   "cell_type": "code",
   "execution_count": 73,
   "metadata": {},
   "outputs": [
    {
     "data": {
      "text/plain": [
       "[0.0,\n",
       " 1138.0,\n",
       " 2276.0,\n",
       " 3414.0,\n",
       " 4552.0,\n",
       " 5690.0,\n",
       " 6828.0,\n",
       " 7966.0,\n",
       " 9104.0,\n",
       " 10242.0,\n",
       " 11380.0]"
      ]
     },
     "execution_count": 73,
     "metadata": {},
     "output_type": "execute_result"
    }
   ],
   "source": [
    "xx = [dx*(i) for i in range(0,nn)] # Spatial locations of nodes, used for plotting\n",
    "#xx"
   ]
  },
  {
   "cell_type": "code",
   "execution_count": 34,
   "metadata": {},
   "outputs": [],
   "source": [
    "\n",
    "bse = 12 - s0*xx # bottom channel elevation\n",
    "dt = dx/(v0 + c) # the time step that satisfies the courant condtions\n",
    "kmax = round(tmax/dt)  # set maximum number of time steps"
   ]
  },
  {
   "cell_type": "code",
   "execution_count": 34,
   "metadata": {},
   "outputs": [
    {
     "ename": "SyntaxError",
     "evalue": "invalid syntax (<ipython-input-34-770a6379aa38>, line 4)",
     "output_type": "error",
     "traceback": [
      "\u001b[0;36m  File \u001b[0;32m\"<ipython-input-34-770a6379aa38>\"\u001b[0;36m, line \u001b[0;32m4\u001b[0m\n\u001b[0;31m    xx = dx*seq(1:nn)-1000  # Spatial locations of nodes, used for plotting\u001b[0m\n\u001b[0m                 ^\u001b[0m\n\u001b[0;31mSyntaxError\u001b[0m\u001b[0;31m:\u001b[0m invalid syntax\n"
     ]
    }
   ],
   "source": []
  },
  {
   "cell_type": "code",
   "execution_count": null,
   "metadata": {},
   "outputs": [],
   "source": [
    "message(green('Celerity = '),green(c))\n",
    "message(green('Delta x  = '),green(dx))\n",
    "message(green('Delta t  = '),green(dt))\n",
    "message(green(\"ITmax = \"),green(kmax))"
   ]
  },
  {
   "cell_type": "code",
   "execution_count": null,
   "metadata": {},
   "outputs": [],
   "source": []
  },
  {
   "cell_type": "code",
   "execution_count": null,
   "metadata": {},
   "outputs": [],
   "source": []
  },
  {
   "cell_type": "markdown",
   "metadata": {},
   "source": [
    "The next set of functions are prototype functions for reporting the output -- it will be cleaner to build the output functions separate from the control program, and send the necessary vectors when we want to actually print results."
   ]
  },
  {
   "cell_type": "code",
   "execution_count": 9,
   "metadata": {},
   "outputs": [],
   "source": [
    "# display functions -- save in a file named <lax-diffusion-display-lib.R>\n",
    "###### Message Functions #####################\n",
    "def writenow(t,dt,y,v,b0,s): # printing functions\n",
    "    print(\"__________\")\n",
    "    print(\"Time = \",t,\" seconds.\",\"Time step length = \",dt,\" seconds \")\n",
    "    return()  #observe a NULL return, this function messages to the output device, so there is nothing to return."
   ]
  },
  {
   "cell_type": "code",
   "execution_count": 10,
   "metadata": {},
   "outputs": [
    {
     "name": "stdout",
     "output_type": "stream",
     "text": [
      "__________\n",
      "Time =  1  seconds. Time step length =  1  seconds \n"
     ]
    },
    {
     "data": {
      "text/plain": [
       "()"
      ]
     },
     "execution_count": 10,
     "metadata": {},
     "output_type": "execute_result"
    }
   ],
   "source": [
    "writenow(1,1,1,1,1,1)"
   ]
  },
  {
   "cell_type": "code",
   "execution_count": 16,
   "metadata": {},
   "outputs": [],
   "source": [
    "###### Finite Difference Functions ######################\n",
    "def finitedifference():\n",
    "    r = 0.5*dt/dx;\n",
    "###### LEFT BOUNDARY #####################################\n",
    "# UPSTREAM FIXED STAGE AT PRESCRIBED NORMAL DEPTH        #\n",
    "##########################################################\n",
    "    yp[1] = yu\n",
    "    ab = ar(y[2],b0,s);\n",
    "    bb = bt(y[2],b0,s);\n",
    "    cb = sqrt(g*bb/ab);\n",
    "    rb = ab/wp(y[2],b0,s);\n",
    "    sfb = (mn2*v[2]*v[2])/(rb^(1.333));\n",
    "    cn = v[2] -cb*y[2]+ g*(s0-sfb)*dt;\n",
    "    vp[1] = cn + cb*yp[1];\n",
    "###### RIGHT BOUNDARY ####################################\n",
    "#         FIXED STAGE AT DOWNSTREAM END                  #\n",
    "##########################################################\n",
    "# reflection boundary, find velocity along a characteristic\n",
    "    yp[nn] = yd ;\n",
    "    aa = ar(y[n],b0,s);\n",
    "    ba = bt(y[n],b0,s);\n",
    "    ca = sqrt(g*ba/aa);\n",
    "    ra = aa/wp(y[n],b0,s);\n",
    "    sfa = (mn2*v[n]*v[n])/(ra^(4.0/3.0));\n",
    "    cp = v[n] + ca*y[n]+g*(s0-sfa)*dt;\n",
    "##yp[nn] <<- (cp - vp[nn])/ca;\n",
    "    vp[nn] = cp - yp[nn]*ca \n",
    "##print(cbind(y,yp,v,vp));\n",
    "######## INTERIOR NODES AND REACHES ###############\n",
    "# loop through the interior nodes\n",
    "    for i in range(2,n): # begin interior node loop scope\n",
    "        aa = ar(y[i-1],b0,s);\n",
    "        ba = bt(y[i-1],b0,s);\n",
    "        pa = wp(y[i-1],b0,s);\n",
    "        ra = aa/pa;\n",
    "        sfa = (mn2*v[i-1]*v[i-1])/(ra^(4.0/3.0));\n",
    "        ab = ar(y[i+1],b0,s);\n",
    "        bb = bt(y[i+1],b0,s);\n",
    "        pb = wp(y[i+1],b0,s);\n",
    "        rb = ab/pb;\n",
    "        sfb = (mn2*v[i+1]*v[i+1])/(rb^(4.0/3.0));\n",
    "# need averages of sf, hydraulic depth\n",
    "        dm = 0.5*(aa/ba + ab/bb);\n",
    "        sfm = 0.5*(sfa+sfb);\n",
    "        vm = 0.5*(v[i-1]+v[i+1]);\n",
    "        ym = 0.5*(y[i-1]+y[i+1]);\n",
    "# update momentum\n",
    "# note the double <<, this structure forces the\n",
    "# value to be global and accessible\n",
    "# to other functions when the script is run\n",
    "        vp[i] = vm -r*g*(y[i+1] - y[i-1]) -r*vm*(v[i+1] - v[i-1]) + g*dt*(s0-sfm);\n",
    "# update depth\n",
    "        yp[i] = ym - r*dm*(v[i+1] - v[i-1]) -r*vm*(y[i+1] - y[i-1]);\n",
    "# end of interior node loop scope\n",
    "# end of function scope\n",
    "    return()"
   ]
  },
  {
   "cell_type": "code",
   "execution_count": null,
   "metadata": {},
   "outputs": [],
   "source": []
  }
 ],
 "metadata": {
  "kernelspec": {
   "display_name": "Python 3",
   "language": "python",
   "name": "python3"
  },
  "language_info": {
   "codemirror_mode": {
    "name": "ipython",
    "version": 3
   },
   "file_extension": ".py",
   "mimetype": "text/x-python",
   "name": "python",
   "nbconvert_exporter": "python",
   "pygments_lexer": "ipython3",
   "version": "3.8.5"
  }
 },
 "nbformat": 4,
 "nbformat_minor": 4
}
