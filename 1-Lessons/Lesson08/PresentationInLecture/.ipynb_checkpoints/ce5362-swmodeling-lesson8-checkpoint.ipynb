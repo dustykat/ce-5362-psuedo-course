{
 "cells": [
  {
   "cell_type": "markdown",
   "metadata": {},
   "source": [
    "lesson 8 lax-scheme workshop"
   ]
  },
  {
   "cell_type": "markdown",
   "metadata": {},
   "source": [
    "## Example/Problem Statement\n",
    "\n",
    "The backwater curve situation for a rectangular channel with discharge over a weir is repeated.  The channel width is 5 meters, bottom slope $0.001$, Manning's $n=0.02$ and discharge $Q=55.4 \\frac{m^3}{sec}$.\n",
    "\n",
    "We will build a transient solver, although this problem is a steady flow case that we can check with an independent tool (Hamming's approach a few lessons ago).  We will start with the flow depth artificially large and observe the transient solver evolve eventually produce an equilibrium solution that should be the same as the steady-flow solver.  \n",
    "\n",
    "Generally such a simulation is a good idea to test a new algorithm -- it should be stable enough to converge to and maintain a steady solution.\n",
    "\n",
    "Why we would consider a transient solver is to examine cases such as that depicted in Figure 1\n",
    "\n",
    "![](tidal-bore-14[8].jpg)\n",
    "\n",
    "|Figure 1. Image of a tidal bore propagating upstream|\n",
    "|:---|\n",
    "\n",
    "\n",
    "\n",
    "The remainder of this notebook will develop a script that implements these concepts.\n",
    "\n",
    "\n"
   ]
  },
  {
   "cell_type": "markdown",
   "metadata": {},
   "source": [
    "## Building a Tool\n",
    "\n",
    "The script is comprised of several parts, and eventually for the sake of taking advantage of the ability to read and operate on files, the script will have several \"libraries\" that are read by a main control program.  \n",
    "\n",
    "The main program controls the overall solution process, while the library functions can be built and tested in advance.  What follows is a port from an old FORTRAN and later R program that is specific to this problem, we will get it working first, then generalize for reuse.\n",
    "\n"
   ]
  },
  {
   "cell_type": "code",
   "execution_count": 216,
   "metadata": {},
   "outputs": [],
   "source": [
    "import math"
   ]
  },
  {
   "cell_type": "code",
   "execution_count": 232,
   "metadata": {},
   "outputs": [],
   "source": [
    "# hydraulic functions \n",
    "# depth == flow depth          \n",
    "# bottom == bottom width of trapezoidal channel\n",
    "# side == side slope (same value both sides) of trapezoidal channel\n",
    "# computed values:\n",
    "# bt == computed topwidth :: ar == flow area, used in fd update :: wp == wetted perimeter, used in fd update\n",
    "\n",
    "def bt(depth,bottom,side):   # depth-topwidth function\n",
    "    topwidth = (bottom + 2.0*side*depth);\n",
    "    return(topwidth);\n",
    "\n",
    "def ar(depth,bottom,side):  # depth area function\n",
    "    area = (depth*(bottom+side*depth));\n",
    "    return(area)\n",
    "\n",
    "def wp(depth,bottom,side):   # depth perimeter\n",
    "    import math\n",
    "    perimeter = (bottom+2.0*depth*math.sqrt(1.0+side*side));\n",
    "    return(perimeter)"
   ]
  },
  {
   "cell_type": "code",
   "execution_count": 253,
   "metadata": {},
   "outputs": [],
   "source": [
    "###### Problem Constants #######\n",
    "# these are constants that define the problem\n",
    "# change for different problems\n",
    "# a good habit is to assign constants to names so the\n",
    "# program is readable by people in a few years\n",
    "g = 9.81 # gravitational acceleration, obviously SI units\n",
    "n = 10 # number of reaches\n",
    "q0 = 55.4 # initial discharge\n",
    "yd = 8.000 # initial flow depth in the model\n",
    "yu = 5.000 # upstream constant depth\n",
    "mn = 0.020 # Manning's n\n",
    "b0 = 5 # bottom width\n",
    "s0 = 0.001 # longitudinal slope (along direction of flow)\n",
    "s  = 0.0 # side slope (passed to calls to hydraulic variables)\n",
    "l  = 11380.0 # total length (the lenght of computational domain)\n",
    "tmax = 600 # total simulation time in seconds\n",
    "iprt =  1 # print every iprt time steps\n",
    "nn = n+1 # how many nodes, will jack with boundaries later\n",
    "mn2 = mn*mn # Manning's n squared, will appear a lot.\n",
    "a = ar(yd,b0,s) # flow area at beginning of time\n",
    "v0 = q0/a # initial velocity"
   ]
  },
  {
   "cell_type": "code",
   "execution_count": 254,
   "metadata": {},
   "outputs": [],
   "source": [
    "######## Here we build storage vectors ###############\n",
    "y = [0]*nn # create nn elements of vector y, all zero\n",
    "yp = [0]*nn # updates go in this vector, same length as y\n",
    "v = [0]*nn # create nn elements of vector v\n",
    "vp = [0]*nn # updates go in this vector, same length and v\n",
    "b = [0]*nn\n",
    "ytmp = [0]*nn\n",
    "vtmp = [0]*nn\n",
    "y = [float(yd) for i in y] # populate y with nn things, each thing has value yd\n",
    "v = [float(v0) for i in y] # populate v with nn things, each thing has value v0"
   ]
  },
  {
   "cell_type": "code",
   "execution_count": null,
   "metadata": {},
   "outputs": [],
   "source": []
  },
  {
   "cell_type": "code",
   "execution_count": 255,
   "metadata": {},
   "outputs": [],
   "source": [
    "b = bt(y[0],b0,s) # topwidth at downstream end\n",
    "c = math.sqrt(g*a/b) # celerity at initial conditions\n",
    "dx = l/n # delta x, length of a reach\n",
    "#dx"
   ]
  },
  {
   "cell_type": "code",
   "execution_count": 256,
   "metadata": {},
   "outputs": [],
   "source": [
    "xx = [dx*(i) for i in range(0,nn)] # Spatial locations of nodes, used for plotting"
   ]
  },
  {
   "cell_type": "code",
   "execution_count": 266,
   "metadata": {},
   "outputs": [],
   "source": [
    "bse = [12 - s0*xx[i] for i in range(0,nn)] # bottom channel elevation\n",
    "wse = [bse[i]+y[i] for i in range(0,nn)] # water surface elevation\n",
    "dt = dx/(v0 + c) # the time step that satisfies the courant condtions\n",
    "kmax = round(tmax/dt)  # set maximum number of time steps"
   ]
  },
  {
   "cell_type": "code",
   "execution_count": 267,
   "metadata": {},
   "outputs": [
    {
     "data": {
      "text/plain": [
       "[12.0,\n",
       " 10.862,\n",
       " 9.724,\n",
       " 8.586,\n",
       " 7.4479999999999995,\n",
       " 6.31,\n",
       " 5.172,\n",
       " 4.034,\n",
       " 2.895999999999999,\n",
       " 1.7579999999999991,\n",
       " 0.6199999999999992]"
      ]
     },
     "execution_count": 267,
     "metadata": {},
     "output_type": "execute_result"
    }
   ],
   "source": [
    "bse"
   ]
  },
  {
   "cell_type": "code",
   "execution_count": 268,
   "metadata": {},
   "outputs": [
    {
     "name": "stdout",
     "output_type": "stream",
     "text": [
      "Celerity =  8.859\n",
      "Delta x  =  1138.0\n",
      "Delta t  =  111.091\n",
      "ITmax =  5\n"
     ]
    }
   ],
   "source": [
    "print('Celerity = ',round(c,3) )\n",
    "print('Delta x  = ',round(dx,3))\n",
    "print('Delta t  = ',round(dt,3))\n",
    "print(\"ITmax = \",(kmax))"
   ]
  },
  {
   "cell_type": "markdown",
   "metadata": {},
   "source": [
    "The next set of functions are prototype functions for reporting the output -- it will be cleaner to build the output functions separate from the control program, and send the necessary vectors when we want to actually print results."
   ]
  },
  {
   "cell_type": "code",
   "execution_count": 269,
   "metadata": {},
   "outputs": [],
   "source": [
    "# display functions \n",
    "import matplotlib\n",
    "\n",
    "def writenow(t,dt,y,v,b0,s): # printing functions\n",
    "    print(\"__________\")\n",
    "    print(\"Time = \",t,\" seconds.\",\"Time step length = \",dt,\" seconds \")\n",
    "    print(\"IROW \",\" DEPTH \",\" VELOCITY \")\n",
    "    for irow in range(0,len(v)):\n",
    "        print(irow,round(y[irow],3),round(v[irow],3))\n",
    "    return()  #observe a NULL return, this function messages to the output device, so there is nothing to return.\n",
    "\n",
    "def plot2lines(list1,list2,list3,list4,strx,stry,strtitle): # plot list1 on x, list2 on y, xlabel, ylabel, title\n",
    "    from matplotlib import pyplot as plt # import the plotting library from matplotlibplt.show()\n",
    "    plt.plot( list1, list2, color ='brown', marker ='*', linestyle ='solid') # create a line chart, years on x-axis, gdp on y-axis\n",
    "    plt.plot( list3, list4, color ='blue', marker ='o', linestyle ='solid') # create a line chart, years on x-axis, gdp on y-axis\n",
    "    plt.title(strtitle)# add a title\n",
    "    plt.ylabel(stry)# add a label to the x and y-axes\n",
    "    plt.xlabel(strx)\n",
    "    plt.show() # display the plot\n",
    "    return #null return"
   ]
  },
  {
   "cell_type": "code",
   "execution_count": 271,
   "metadata": {},
   "outputs": [
    {
     "name": "stdout",
     "output_type": "stream",
     "text": [
      "__________\n",
      "Time =  0.0  seconds. Time step length =  216.65448141634297  seconds \n",
      "IROW   DEPTH   VELOCITY \n",
      "0 5.0 2.065\n",
      "1 5.114 2.087\n",
      "2 5.271 2.067\n",
      "3 5.478 2.038\n",
      "4 5.702 2.014\n",
      "5 5.999 1.98\n",
      "6 6.311 1.942\n",
      "7 6.711 1.899\n",
      "8 7.131 1.83\n",
      "9 7.68 1.829\n",
      "10 8.0 1.385\n",
      "__________\n",
      "Time =  108.2883283041918  seconds. Time step length =  108.2883283041918  seconds \n",
      "IROW   DEPTH   VELOCITY \n",
      "0 5.0 2.064\n",
      "1 5.108 2.094\n",
      "2 5.272 2.067\n",
      "3 5.459 2.045\n",
      "4 5.704 2.014\n",
      "5 5.97 1.982\n",
      "6 6.314 1.942\n",
      "7 6.683 1.894\n",
      "8 7.133 1.831\n",
      "9 7.66 1.813\n",
      "10 8.0 1.385\n",
      "__________\n",
      "Time =  216.8636973627415  seconds. Time step length =  108.57536905854973  seconds \n",
      "IROW   DEPTH   VELOCITY \n",
      "0 5.0 2.072\n",
      "1 5.109 2.094\n",
      "2 5.261 2.073\n",
      "3 5.46 2.045\n",
      "4 5.683 2.018\n",
      "5 5.972 1.982\n",
      "6 6.287 1.94\n",
      "7 6.686 1.895\n",
      "8 7.113 1.824\n",
      "9 7.661 1.814\n",
      "10 8.0 1.385\n",
      "__________\n",
      "Time =  325.4133604634794  seconds. Time step length =  108.5496631007379  seconds \n",
      "IROW   DEPTH   VELOCITY \n",
      "0 5.0 2.072\n",
      "1 5.105 2.099\n",
      "2 5.262 2.073\n",
      "3 5.445 2.05\n",
      "4 5.684 2.018\n",
      "5 5.95 1.984\n",
      "6 6.289 1.94\n",
      "7 6.663 1.89\n",
      "8 7.115 1.825\n",
      "9 7.647 1.803\n",
      "10 8.0 1.385\n",
      "__________\n",
      "Time =  434.16579746916267  seconds. Time step length =  108.75243700568326  seconds \n",
      "IROW   DEPTH   VELOCITY \n",
      "0 5.0 2.078\n",
      "1 5.105 2.099\n",
      "2 5.254 2.078\n",
      "3 5.446 2.05\n",
      "4 5.667 2.021\n",
      "5 5.952 1.983\n",
      "6 6.269 1.94\n",
      "7 6.665 1.89\n",
      "8 7.098 1.818\n",
      "9 7.648 1.804\n",
      "10 8.0 1.385\n",
      "__________\n",
      "Time =  542.896936682005  seconds. Time step length =  108.73113921284238  seconds \n",
      "IROW   DEPTH   VELOCITY \n",
      "0 5.0 2.078\n",
      "1 5.102 2.103\n",
      "2 5.254 2.078\n",
      "3 5.435 2.054\n",
      "4 5.668 2.021\n",
      "5 5.934 1.985\n",
      "6 6.27 1.94\n",
      "7 6.648 1.887\n",
      "8 7.099 1.819\n",
      "9 7.636 1.795\n",
      "10 8.0 1.385\n"
     ]
    },
    {
     "data": {
      "image/png": "[encoded data removed]",
      "text/plain": [
       "<Figure size 432x288 with 1 Axes>"
      ]
     },
     "metadata": {
      "needs_background": "light"
     },
     "output_type": "display_data"
    }
   ],
   "source": [
    "k = 0 # time counter\n",
    "t = 0.0 # elapsed time\n",
    "writenow(t,dt,y,v,b0,s) #print the start conditions\n",
    "for itime in range(0,kmax): # begin time stepping loop scope\n",
    "#print('Iteration Count = ',itime)\n",
    "######## Adaptive Time Step Based on Current mesh courant number ###\n",
    "    bestdt = dt # start with current time step\n",
    "### begin courant number each cell loop scope\n",
    "    for i in range(0,nn):\n",
    "        a = ar(y[i],b0,s);\n",
    "        b = bt(y[i],b0,s);\n",
    "        c = math.sqrt(g*a/b);\n",
    "        dtn = dx/abs((v[i])+c)\n",
    "    # now test\n",
    "        if(dtn < bestdt):\n",
    "            bestdt = dtn\n",
    "### end courant number each cell loop scope\n",
    "    dt = bestdt\n",
    "#print('time-step length = ',dt)\n",
    "#writenow(t,dt,y,v,b0,s)\n",
    "\n",
    "\n",
    "###### Finite Difference #################################\n",
    "    r = 0.5*dt/dx;\n",
    "###### LEFT BOUNDARY #####################################\n",
    "# UPSTREAM FIXED STAGE AT PRESCRIBED NORMAL DEPTH        #\n",
    "##########################################################\n",
    "    yp[0] = yu\n",
    "    ab = ar(y[1],b0,s);\n",
    "    bb = bt(y[1],b0,s);\n",
    "    cb = math.sqrt(g*bb/ab);\n",
    "    rb = ab/wp(y[1],b0,s);\n",
    "    sfb = (mn2*v[1]*v[1])/(rb**(1.333));\n",
    "    cn = v[1] -cb*y[1]+ g*(s0-sfb)*dt;\n",
    "    vp[0] = cn + cb*yp[0];\n",
    "###### RIGHT BOUNDARY ####################################\n",
    "#         FIXED STAGE AT DOWNSTREAM END                  #\n",
    "##########################################################\n",
    "# reflection boundary, find velocity along a characteristic\n",
    "    yp[n-1] = yd ;\n",
    "    aa = ar(y[n-1],b0,s);\n",
    "    ba = bt(y[n-1],b0,s);\n",
    "    ca = math.sqrt(g*ba/aa);\n",
    "    ra = aa/wp(y[n-1],b0,s);\n",
    "    sfa = (mn2*v[n-1]*v[n-1])/(ra**(4.0/3.0));\n",
    "    cp = v[n-1] + ca*y[n-1]+g*(s0-sfa)*dt;\n",
    "##yp[nn] <<- (cp - vp[nn])/ca;\n",
    "    vp[n] = cp - yp[n]*ca \n",
    "######## INTERIOR NODES AND REACHES ###############\n",
    "### loop through the interior nodes\n",
    "    for i in range(1,n): # begin interior node loop scope\n",
    "        aa = ar(y[i-1],b0,s);\n",
    "        ba = bt(y[i-1],b0,s);\n",
    "        pa = wp(y[i-1],b0,s);\n",
    "        ra = aa/pa;\n",
    "        sfa = (mn2*v[i-1]*v[i-1])/(ra**(4.0/3.0));\n",
    "        ab = ar(y[i+1],b0,s);\n",
    "        bb = bt(y[i+1],b0,s);\n",
    "        pb = wp(y[i+1],b0,s);\n",
    "        rb = ab/pb;\n",
    "        sfb = (mn2*v[i+1]*v[i+1])/(rb**(4.0/3.0));\n",
    "# need averages of sf, hydraulic depth\n",
    "        dm = 0.5*(aa/ba + ab/bb);\n",
    "        sfm = 0.5*(sfa+sfb);\n",
    "        vm = 0.5*(v[i-1]+v[i+1]);\n",
    "        ym = 0.5*(y[i-1]+y[i+1]);\n",
    "# new momentum\n",
    "        vp[i] = vm -r*g*(y[i+1] - y[i-1]) -r*vm*(v[i+1] - v[i-1]) + g*dt*(s0-sfm);\n",
    "# new depth\n",
    "        yp[i] = ym - r*dm*(v[i+1] - v[i-1]) -r*vm*(y[i+1] - y[i-1]);\n",
    "### end of interior node loop scope\n",
    "# update time, count, depth and momentum\n",
    "    t = t+dt; # Increment simulation time\n",
    "    k = k+1; # Increment loop counter\n",
    "    for i in range(0,n):\n",
    "        v[i]=vp[i]\n",
    "        y[i]=yp[i]\n",
    "    if (k%iprt == 0): # Write current conditions every iprt time steps\n",
    "        writenow(t,dt,y,v,b0,s)\n",
    "    dt = 2*dt #artificially inflate the time step to force adaptive update\n",
    "# end time step loop\n",
    "\n",
    "# provisional code to make a plot\n",
    "\n",
    "for i in range(0,nn):\n",
    "    wse[i]=bse[i]+y[i]\n",
    "plot2lines(xx,bse,xx,wse,\"location\",\"elevation\",\"title\")"
   ]
  },
  {
   "cell_type": "code",
   "execution_count": null,
   "metadata": {},
   "outputs": [],
   "source": []
  },
  {
   "cell_type": "code",
   "execution_count": null,
   "metadata": {},
   "outputs": [],
   "source": [
    "\n"
   ]
  },
  {
   "cell_type": "code",
   "execution_count": null,
   "metadata": {},
   "outputs": [],
   "source": []
  }
 ],
 "metadata": {
  "kernelspec": {
   "display_name": "Python 3",
   "language": "python",
   "name": "python3"
  },
  "language_info": {
   "codemirror_mode": {
    "name": "ipython",
    "version": 3
   },
   "file_extension": ".py",
   "mimetype": "text/x-python",
   "name": "python",
   "nbconvert_exporter": "python",
   "pygments_lexer": "ipython3",
   "version": "3.8.5"
  }
 },
 "nbformat": 4,
 "nbformat_minor": 4
}
