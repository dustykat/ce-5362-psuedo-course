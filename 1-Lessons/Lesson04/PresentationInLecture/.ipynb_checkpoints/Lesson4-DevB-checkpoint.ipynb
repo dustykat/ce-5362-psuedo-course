{
 "cells": [
  {
   "cell_type": "code",
   "execution_count": 1,
   "metadata": {},
   "outputs": [
    {
     "name": "stdout",
     "output_type": "stream",
     "text": [
      "Wed Feb  3 17:31:36 UTC 2021\n"
     ]
    }
   ],
   "source": [
    "! date"
   ]
  },
  {
   "cell_type": "markdown",
   "metadata": {},
   "source": [
    "# CE 5362 Lesson 4 Hydraulics Review (Continued)\n",
    "\n",
    "- Open Channel Hydraulics (A Review)\n",
    "    - Momentum Conservation"
   ]
  },
  {
   "cell_type": "markdown",
   "metadata": {},
   "source": [
    "# Conservation of Mass\n",
    "\n",
    "Recall our expression for the conservation of mass including lateral inflow as a discharge per unit length added into the mass balance as:\n",
    "\n",
    "$$(\\frac{\\partial z}{\\partial t} ) \\cdot B(z) + \\frac{\\partial Q}{\\partial x}  = q$$\n",
    "\n",
    "This equation is one of the two equations that comprise the St. Venant equations.\n",
    "The other equation is developed from the conservation of linear momentum."
   ]
  },
  {
   "cell_type": "markdown",
   "metadata": {},
   "source": [
    "# Conservation of Momentum\n",
    "\n",
    "The conservation of momentum is the statement of the change in momentum in the\n",
    "reach is equal to the net momentum entering the reach plus the sum of the forces on\n",
    "the water in the reach. As in the mass balance, each component will be considered\n",
    "separately for pedagogical clarity.\n",
    "\n",
    "Figure 1 is a sketch of the reach element under consideration, on some non-zero sloped\n",
    "surface.\n",
    "\n",
    "![](motion_sketch1.png)\n",
    "\n",
    "|**Figure 1 Equation of Motion Sketch**|\n",
    "|---|"
   ]
  },
  {
   "cell_type": "markdown",
   "metadata": {},
   "source": [
    "**Momentum Entering**: Momentum entering on the left side of the sketch is:\n",
    "\n",
    "$$ \\rho \\cdot QV = \\rho \\cdot V^2A $$\n",
    "\n",
    "**Momentum Exiting**: Momentum leaving on the right side of the sketch is:\n",
    "\n",
    "$$ \\rho \\cdot QV + \\frac{\\partial}{\\partial x}(\\rho \\cdot QV)\\delta x = \\rho \\cdot V^2A + \\frac{\\partial}{\\partial x}(\\rho \\cdot V^2A)\\delta x$$\n",
    "\n",
    "**Momentum Accumulating**: The momentum accumulating is the rate of change of\n",
    "`linear` momentum:\n",
    "\n",
    "$$ \\frac{dL}{dt} = \\frac{d(mV)}{dt} = \\frac{\\partial}{\\partial t} (\\rho \\cdot AV \\cdot \\delta x)=\\rho \\cdot \\delta x \\cdot \\frac{\\partial}{\\partial t} (AV) $$"
   ]
  },
  {
   "cell_type": "markdown",
   "metadata": {},
   "source": [
    "**Gravity Force**: The gravitational force on the element is the product of the mass in\n",
    "the element and the downslope component of acceleration.  The mass in the element is $\\rho A \\delta x$ The x-component of acceleration is $g sin(\\alpha)$, which is $\\approx S_0$ for small values of\n",
    "$ \\alpha$.  The resulting force of gravity is is the product of these two values:\n",
    "\n",
    "$$F_g = \\rho g AS_0 \\delta x$$"
   ]
  },
  {
   "cell_type": "markdown",
   "metadata": {},
   "source": [
    "**Friction Force**: Friction force is the product of the shear stress and the contact area.\n",
    "In the reach the contact area is the product of the reach length and average wetted\n",
    "perimeter.\n",
    "\n",
    "$$F_{f} = \\tau P_w \\delta x$$\n",
    "\n",
    "where $Pw = A/R$, where $R$ is the hydraulic radius. A good approximation for shear stress in unsteady flow is $\\tau = \\rho g R S_f$. The value $S_f$ is the slope of the energy grade line at some instant and is also called the friction slope. This slope can be empirically determined by a variety of models, typically Chezy's or Manning's equation is used. In either of these two models, we are using the STEADY FLOW equation of motion to mimic unsteady behavior - nothing wrong, and it is common practice, but this decision does limit the frequency response of the model (the ability to change fast - hence the shallow wave theory assumption!).\n",
    "\n",
    "The resulting friction model is\n",
    "\n",
    "$$F_{f} = \\rho g A S_f \\delta x$$"
   ]
  },
  {
   "cell_type": "markdown",
   "metadata": {},
   "source": [
    "**Pressure Force**: The pressure forces are comprized of the pressure applied at the end faces of the reach, and along the channel sides.  Figure 2 is a sketch that depicts a panel of a cross section that is integrated vertically to obtain pressure magnitude. \n",
    "\n",
    "![](pressure_sketch.png)\n",
    "\n",
    "|**Figure 2 Pressure-Integral Sketch**|\n",
    "|---|\n",
    "\n",
    "$$ F_p = \\int_A dF$$\n",
    "\n",
    "where \n",
    "\n",
    "$$ dF = (z-h)\\rho g \\xi (h) dh$$\n",
    "\n",
    "where $\\xi (h)$ is the width panel at a given distance above the channel bottom\n",
    "$(h)$ at any section.\n",
    "\n",
    "The net force is the differnece in the upstream and downstream forces:\n",
    "$$ F_{p~net} = F_{p~up} - F_{p~down} = F_p - (F_p + \\frac{\\partial F_p}{\\partial x}\\cdot \\delta x) = - \\frac{\\partial F_p}{\\partial x}\\cdot \\delta x $$\n",
    "\n",
    "when expressedusing the integral:\n",
    "$$ - \\frac{\\partial F_p}{\\partial x}\\cdot \\delta x  = - \\frac{\\partial}{\\partial x}[\\int_0^Z \\rho g (z-h) \\xi(h) dh]\\delta x$$\n",
    "\n",
    "evaluating by parts\n",
    "$$ F_{p~net} = - \\rho g [\\frac{\\partial z}{\\partial x}\\int_0^Z \\xi(h) dh + \\int_0^Z (z-h) \\xi(h) \\frac{\\partial \\xi(h)}{\\partial x} dh]\\delta x $$\n",
    "\n",
    "The first term integrates to the cross sectional area, the second term is the variation\n",
    "in pressure with position along the channel. The other pressure force to consider is the bank force (the pressure force exerted by the banks on the element). This force is computed using the same type of integral structure except the integrand order is swapped.\n",
    "\n",
    "$$ F_{p~bank} = [\\int_0^Z (z-h) \\xi(h) \\frac{\\partial \\xi(h)}{\\partial x} \\delta x]dh $$\n"
   ]
  },
  {
   "cell_type": "markdown",
   "metadata": {},
   "source": [
    "\n",
    "Now to combine the parts into a momentum balance:\n",
    "\n",
    "$$ Momentum_{in} - Momentum_{out} + \\sum F = \\frac{d(mV)}{dt} $$\n",
    "\n",
    "Substitution of the pieces :\n",
    "\n",
    "$$ Momentum_{in} - Momentum_{out} + F_{p~net} + F_{bank} + F_{gravity} - F_{friction} = \\frac{d(mV)}{dt} $$\n",
    "\n",
    "Now write the expressions for each expressions for each part:\n",
    "\n",
    "$$ \\rho \\cdot V^2A - \\rho \\cdot V^2A - \\frac{\\partial}{\\partial x}(\\rho \\cdot V^2A)\\delta x \\\\ - \\rho g [\\frac{\\partial z}{\\partial x}\\int_0^Z \\xi(h) dh - \\int_0^Z (z-h) \\xi(h) \\frac{\\partial \\xi(h)}{\\partial x} dh]\\delta x \\\\ + [\\int_0^Z (z-h) \\xi(h) \\frac{\\partial \\xi(h)}{\\partial x} \\delta x]dh \\\\ + \\rho g AS_0 \\delta x \\\\ - \\rho g A S_f \\delta x \\\\ = \\rho \\cdot \\delta x \\cdot \\frac{\\partial}{\\partial t} (AV) $$\n",
    "\n",
    "The rows above, in order represent:\n",
    "1. Net momentum entering the reach.\n",
    "2. Pressure force differential at the end sections.\n",
    "3. Pressure force on the channel sides.\n",
    "4. Gravitational force.\n",
    "5. Frictional force opposing flow.\n",
    "6. Total acceleration in the reach (as change in linear momentum). "
   ]
  },
  {
   "cell_type": "markdown",
   "metadata": {},
   "source": [
    "### Simplifications\n",
    "\n",
    "Canceling terms and dividing by $\\rho \\delta x$ (isothermal, incompressible flow; reach has finite\n",
    "length), The momentum equation simplifies to:\n",
    "\n",
    "$$-\\frac{\\partial }{\\partial x}(V^2 A) - g \\frac{\\partial z}{\\partial x}\\int_0^Z \\xi(h) dh + g A S_0 - g R S_f = \\frac{\\partial }{\\partial t}(AV)$$\n",
    "\n",
    "The second term integral is the sectional flow area, so it simplifies to\n",
    "\n",
    "$$-\\frac{\\partial }{\\partial x}(V^2 A) - g \\frac{\\partial z}{\\partial x}A + g A S_0 - g A S_f = \\frac{\\partial }{\\partial t}(AV)$$\n",
    "\n",
    "The term with the square of mean section velocity is expanded by the chain rule (https://www.youtube.com/watch?v=H-ybCx8gt-8), and using **continunity** becomes (notice the convective acceleration term from the change in area with time)\n",
    "\n",
    "$$-\\frac{\\partial }{\\partial t}(AV) = A \\frac{\\partial V}{\\partial t}  + V \\frac{\\partial A}{\\partial t} = A \\frac{\\partial V}{\\partial t} - VA \\frac{\\partial V }{\\partial x} - V^2 \\frac{\\partial A}{\\partial x}$$\n",
    "\n",
    "Now expand and construct\n",
    "\n",
    "$$-V^2 \\frac{\\partial A}{\\partial x} -2VA \\frac{\\partial V}{\\partial x} - g A \\frac{\\partial z}{\\partial x} + g A (S_0 - S_f) = A \\frac{\\partial V}{\\partial t} - VA \\frac{\\partial V}{\\partial x} - V^2 \\frac{\\partial A}{\\partial x}$$\n",
    "\n",
    "Cancel common terms and simplify\n",
    "\n",
    "$$ -VA \\frac{\\partial V}{\\partial x} - g A \\frac{\\partial z}{\\partial x} + g A (S_0 - S_f) = A \\frac{\\partial V}{\\partial t}$$\n",
    "\n",
    "The above equation is the form of the momentum equation for practical use. It will be\n",
    "rearranged in the remainder of this essay to fit some other purposes, but this is the\n",
    "expression of momentum in the channel reach.\n",
    "\n",
    "A bit more manipulation (divide by $gA$)\n",
    "\n",
    "$$ -\\frac{V}{g}\\frac{\\partial V}{\\partial x} - \\frac{\\partial z}{\\partial x} + (S_0 - S_f) = \\frac{1}{g} \\frac{\\partial V}{\\partial t}$$\n",
    "\n",
    "Now rearrange to place the two slopes on the left side, and the remaining part of\n",
    "momentum to the right side. The result let's us examine the several flow regimes\n",
    "common in open channel flows.\n",
    "\n",
    "$$ S_0 - S_f = \\frac{1}{g} \\frac{\\partial V}{\\partial t} + \\frac{\\partial z}{\\partial x} + \\frac{V}{g}\\frac{\\partial V}{\\partial x} $$\n",
    "\n",
    "If the local acceleration (first term on the right) is zero, the depth taper (middle term on the right) is zero, and the convective acceleration (last term on the right) is zero, then the expression degenerates to the algebraic equation of normal flow ($S_0 = S_f$). If just the local acceleration term is zero, and all the remaining terms are considered, then the expression degenerates to the ordinary differential equation of gradually varied flow. Finally, if all the terms are retained, then the dynamic flow (shallow wave) conditions are in effect and the resulting model is a partial differential equation."
   ]
  },
  {
   "cell_type": "markdown",
   "metadata": {},
   "source": [
    "### Flow Regimes\n",
    "\n",
    "Re-iterating these typical \n",
    "ow regimes.\n",
    "1. Uniform flow; algebraic equation.\n",
    "$$ S_f = S_0 $$\n",
    "\n",
    "2. Gradually varied; ordinary differential equation.\n",
    "$$ S_f = S_0 - \\frac{\\partial z}{\\partial x} - \\frac{V}{g}\\frac{\\partial V}{\\partial x} $$\n",
    "\n",
    "3. Dynamic flow (shallow wave) conditions; partial differential equation.\n",
    "\n",
    "$$ S_f = S_0 - \\frac{1}{g} \\frac{\\partial V}{\\partial t} - \\frac{\\partial z}{\\partial x} - \\frac{V}{g}\\frac{\\partial V}{\\partial x} $$\n",
    "\n",
    "The coupled pair of equations, for continuity and for momentum are called the St. Venant equations and comprise a coupled hyperbolic differential equation system.\n",
    "\n",
    "A. Continunity $$(\\frac{\\partial z}{\\partial t} ) \\cdot B(z) + \\frac{\\partial Q}{\\partial x}  = q$$\n",
    "\n",
    "B. Momentum $$ S_0 - S_f = \\frac{1}{g} \\frac{\\partial V}{\\partial t} + \\frac{\\partial z}{\\partial x} + \\frac{V}{g}\\frac{\\partial V}{\\partial x} $$\n",
    "\n",
    "Solutions ($(z, t)$ and $(V, t)$ functions) are found by a variety of methods including\n",
    "finite difference, finite element, finite volume, and characteristics methods.\n",
    "In the next lesson we will examine solutions to the gradually varied flow equation, then\n",
    "proceed to a finite difference solution to the full dynamic equations in the following\n",
    "chapter."
   ]
  },
  {
   "cell_type": "markdown",
   "metadata": {},
   "source": [
    "## References\n",
    "Koutitas, C. G. 1983. Elements of Computational Hydraulics. ISBN 0-412-00361-9. Pentech Press Ltd. London. (Chapter 4) http://54.243.252.9/ce-5362-psuedo-course/3-Readings/PracticalComputationalHydraulics-Kousitas/ElementsOfComputationalHydraulics.pdf\n",
    "\n",
    "Roberson, J. A., Cassidy, J.J., and Chaudry, M. H., (1988) Hydraulic Engineering, Houghton Mifflin Co (Chapter 10) http://54.243.252.9/ce-5362-psuedo-course/3-Readings/HydraulicEngineering/\n",
    "\n",
    "Sturm T.W (2001) Open Channel Hydraulics, 1ed., McGraw-Hill, New York. Note: This PDF is from an international edition published in Singapore. http://54.243.252.9/ce-5362-psuedo-course/3-Readings/OpenChannelHYdraulics/"
   ]
  },
  {
   "cell_type": "code",
   "execution_count": null,
   "metadata": {},
   "outputs": [],
   "source": []
  }
 ],
 "metadata": {
  "kernelspec": {
   "display_name": "Python 3",
   "language": "python",
   "name": "python3"
  },
  "language_info": {
   "codemirror_mode": {
    "name": "ipython",
    "version": 3
   },
   "file_extension": ".py",
   "mimetype": "text/x-python",
   "name": "python",
   "nbconvert_exporter": "python",
   "pygments_lexer": "ipython3",
   "version": "3.6.9"
  }
 },
 "nbformat": 4,
 "nbformat_minor": 4
}
